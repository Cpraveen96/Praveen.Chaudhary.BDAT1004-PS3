{
 "cells": [
  {
   "cell_type": "markdown",
   "id": "deae3fae-00a6-4faf-b141-ef4f6abb22b0",
   "metadata": {},
   "source": [
    "**Name: Praveen Chaudhary<br>\n",
    "Student ID: (200581245)<br>\n",
    "Course: Data Programming (BDAT-1004)<br>\n",
    "Submission Document: PROBLEM SET 3<br>\n",
    "Professor: Ethan Davis**<br>\n",
    "<br>\n",
    "\n",
    "# (Q.1)-> \"OCCUPATION\"<br>\n",
    "**Step 1: Import the necessary libraries**<br>\n",
    "We'll likely need libraries such as Pandas and NumPy for data manipulation and analysis. We can import them like this:\n",
    ":"
   ]
  },
  {
   "cell_type": "code",
   "execution_count": 18,
   "id": "506e2471-f102-4bc1-b3c5-71523a8aed2b",
   "metadata": {},
   "outputs": [],
   "source": [
    "import pandas as pd"
   ]
  },
  {
   "cell_type": "markdown",
   "id": "fe0b22b5-95ce-40ba-a342-274189315deb",
   "metadata": {},
   "source": [
    "**Step 2: Import the dataset from the provided address.**<br>\r",
    "We  can use Pandas' read_csv() function to import the dataset."
   ]
  },
  {
   "cell_type": "code",
   "execution_count": 19,
   "id": "deb5bfaf-a86d-45f1-8aa7-4f352546f4ac",
   "metadata": {},
   "outputs": [],
   "source": [
    "# Read data from URL into a DataFrame\n",
    "url = \"https://raw.githubusercontent.com/justmarkham/DAT8/master/data/u.user\"\n",
    "data = pd.read_csv(url, sep='|')"
   ]
  },
  {
   "cell_type": "markdown",
   "id": "8d7b2e81-7a60-4b5f-a8ce-815761a0bb8c",
   "metadata": {},
   "source": [
    "**Step 3: Assign it to a variable called 'users'.**<br>\n",
    "This step is simply assigning the dataset to a variable called 'users', as shown below."
   ]
  },
  {
   "cell_type": "code",
   "execution_count": 20,
   "id": "344c6dca-3e3c-45e8-8fa2-dce99c5ecc73",
   "metadata": {},
   "outputs": [
    {
     "name": "stdout",
     "output_type": "stream",
     "text": [
      "Data has been successfully written to user_data.xlsx\n"
     ]
    }
   ],
   "source": [
    "# Write DataFrame to Excel file\n",
    "excel_file = \"user_data.xlsx\"\n",
    "data.to_excel(excel_file, index=False)\n",
    "\n",
    "print(\"Data has been successfully written to\", excel_file)"
   ]
  },
  {
   "cell_type": "markdown",
   "id": "9805ced8-441d-4241-ab2f-45e78ee763af",
   "metadata": {},
   "source": [
    "**Step 3(b): Copy the dataset to local system.**"
   ]
  },
  {
   "cell_type": "code",
   "execution_count": 23,
   "id": "7ec34e09-e779-4408-91c8-9368a170e7f2",
   "metadata": {},
   "outputs": [
    {
     "name": "stdout",
     "output_type": "stream",
     "text": [
      "File has been successfully copied to C:\\Users\\profi\\Desktop\n"
     ]
    }
   ],
   "source": [
    "import shutil\n",
    "\n",
    "# Source file path\n",
    "source_file = \"user_data.xlsx\"\n",
    "\n",
    "# Destination directory where you want to save the file\n",
    "destination_directory = \"C:\\\\Users\\\\profi\\\\Desktop\"\n",
    "\n",
    "# Copy the file to the destination directory\n",
    "shutil.copy(source_file, destination_directory)\n",
    "\n",
    "print(\"File has been successfully copied to\", destination_directory)"
   ]
  },
  {
   "cell_type": "markdown",
   "id": "b530c241-b121-414d-b9be-0199075b8343",
   "metadata": {},
   "source": [
    "**Step 3(c): Import the dataset.**"
   ]
  },
  {
   "cell_type": "code",
   "execution_count": null,
   "id": "1f0d4327-a8f2-4220-9f75-c9327ab58dbf",
   "metadata": {},
   "outputs": [],
   "source": [
    "import pandas as pd\n",
    "\n",
    "# Step 3: Import the dataset\n",
    "users = pd.read_excel(\"C:\\\\Users\\\\profi\\\\Desktop\\\\user_data.xlsx\")"
   ]
  },
  {
   "cell_type": "markdown",
   "id": "8db44c73-440a-42f3-a1c9-a3fa3585223e",
   "metadata": {},
   "source": [
    "**Step 4: Discover what is the mean age per occupation.**<br>\n",
    "We can use Pandas' groupby() function to group the data by occupation and then calculate the mean age within each group."
   ]
  },
  {
   "cell_type": "code",
   "execution_count": 24,
   "id": "986f4177-60ed-45be-b5c8-42eac3d3fee2",
   "metadata": {},
   "outputs": [
    {
     "name": "stdout",
     "output_type": "stream",
     "text": [
      "occupation\n",
      "administrator    38.746835\n",
      "artist           31.392857\n",
      "doctor           43.571429\n",
      "educator         42.010526\n",
      "engineer         36.388060\n",
      "entertainment    29.222222\n",
      "executive        38.718750\n",
      "healthcare       41.562500\n",
      "homemaker        32.571429\n",
      "lawyer           36.750000\n",
      "librarian        40.000000\n",
      "marketing        37.615385\n",
      "none             26.555556\n",
      "other            34.523810\n",
      "programmer       33.121212\n",
      "retired          63.071429\n",
      "salesman         35.666667\n",
      "scientist        35.548387\n",
      "student          22.081633\n",
      "technician       33.148148\n",
      "writer           36.311111\n",
      "Name: age, dtype: float64\n",
      "\n",
      "\n"
     ]
    }
   ],
   "source": [
    "# Step 4: Discover the mean age per occupation\n",
    "mean_age_per_occupation = users.groupby('occupation')['age'].mean()\n",
    "print(mean_age_per_occupation)\n",
    "print(\"\\n\")"
   ]
  },
  {
   "cell_type": "markdown",
   "id": "94699783-12e4-40eb-8652-f320fc51d082",
   "metadata": {},
   "source": [
    "**Step 5: Discover the Male ratio per occupation and sort it from the most to the least.**<br>\n",
    "We'll need to calculate the male ratio per occupation. This can be done by first creating a binary column indicating whether the person is male or not, then grouping by occupation and calculating the mean of this binary column. After that, we can sort the results."
   ]
  },
  {
   "cell_type": "code",
   "execution_count": 25,
   "id": "fc04b148-98db-4ea8-b344-e60614dc76ff",
   "metadata": {},
   "outputs": [
    {
     "name": "stdout",
     "output_type": "stream",
     "text": [
      "Step 5: Male ratio per occupation (from most to least)\n",
      "occupation\n",
      "doctor           1.000000\n",
      "engineer         0.970149\n",
      "technician       0.962963\n",
      "retired          0.928571\n",
      "programmer       0.909091\n",
      "executive        0.906250\n",
      "scientist        0.903226\n",
      "entertainment    0.888889\n",
      "lawyer           0.833333\n",
      "salesman         0.750000\n",
      "educator         0.726316\n",
      "student          0.693878\n",
      "other            0.657143\n",
      "marketing        0.615385\n",
      "writer           0.577778\n",
      "none             0.555556\n",
      "administrator    0.544304\n",
      "artist           0.535714\n",
      "librarian        0.431373\n",
      "healthcare       0.312500\n",
      "homemaker        0.142857\n",
      "dtype: float64\n",
      "\n",
      "\n"
     ]
    }
   ],
   "source": [
    "# Step 5: Discover the Male ratio per occupation and sort it from the most to the least\n",
    "print(\"Step 5: Male ratio per occupation (from most to least)\")\n",
    "male_ratio_per_occupation = users[users['gender'] == 'M'].groupby('occupation').size() / users.groupby('occupation').size()\n",
    "male_ratio_per_occupation = male_ratio_per_occupation.sort_values(ascending=False)\n",
    "print(male_ratio_per_occupation)\n",
    "print(\"\\n\")"
   ]
  },
  {
   "cell_type": "markdown",
   "id": "04f4378c-0f08-414f-9ddd-1be75ceb8ab1",
   "metadata": {},
   "source": [
    "**Step 6: For each occupation, calculate the minimum and maximum ages.**<br>\r",
    "Weu can use Pandas' groupby() function along with agg() to calculate both minimum and maximum ages for each occupation."
   ]
  },
  {
   "cell_type": "code",
   "execution_count": 26,
   "id": "8360ee4f-ebf0-438c-8007-afe24c537685",
   "metadata": {},
   "outputs": [
    {
     "name": "stdout",
     "output_type": "stream",
     "text": [
      "Step 6: Minimum and maximum ages per occupation\n",
      "               min  max\n",
      "occupation             \n",
      "administrator   21   70\n",
      "artist          19   48\n",
      "doctor          28   64\n",
      "educator        23   63\n",
      "engineer        22   70\n",
      "entertainment   15   50\n",
      "executive       22   69\n",
      "healthcare      22   62\n",
      "homemaker       20   50\n",
      "lawyer          21   53\n",
      "librarian       23   69\n",
      "marketing       24   55\n",
      "none            11   55\n",
      "other           13   64\n",
      "programmer      20   63\n",
      "retired         51   73\n",
      "salesman        18   66\n",
      "scientist       23   55\n",
      "student          7   42\n",
      "technician      21   55\n",
      "writer          18   60\n",
      "\n",
      "\n"
     ]
    }
   ],
   "source": [
    "# Step 6: For each occupation, calculate the minimum and maximum ages\n",
    "print(\"Step 6: Minimum and maximum ages per occupation\")\n",
    "min_max_age_per_occupation = users.groupby('occupation')['age'].agg(['min', 'max'])\n",
    "print(min_max_age_per_occupation)\n",
    "print(\"\\n\")"
   ]
  },
  {
   "cell_type": "markdown",
   "id": "4bd6838e-b91a-49b2-b8d9-a04b3b676454",
   "metadata": {},
   "source": [
    "**Step 7: For each combination of occupation and sex, calculate the mean age.**<br>\r",
    "We  can again use groupby() along with two columns this time - occupation and sex, and then calculate the mean age."
   ]
  },
  {
   "cell_type": "code",
   "execution_count": 27,
   "id": "042c3f7c-abdd-4acf-95e4-9d683f908615",
   "metadata": {},
   "outputs": [
    {
     "name": "stdout",
     "output_type": "stream",
     "text": [
      "Step 7: Mean age per occupation and sex\n",
      "occupation     gender\n",
      "administrator  F         40.638889\n",
      "               M         37.162791\n",
      "artist         F         30.307692\n",
      "               M         32.333333\n",
      "doctor         M         43.571429\n",
      "educator       F         39.115385\n",
      "               M         43.101449\n",
      "engineer       F         29.500000\n",
      "               M         36.600000\n",
      "entertainment  F         31.000000\n",
      "               M         29.000000\n",
      "executive      F         44.000000\n",
      "               M         38.172414\n",
      "healthcare     F         39.818182\n",
      "               M         45.400000\n",
      "homemaker      F         34.166667\n",
      "               M         23.000000\n",
      "lawyer         F         39.500000\n",
      "               M         36.200000\n",
      "librarian      F         40.000000\n",
      "               M         40.000000\n",
      "marketing      F         37.200000\n",
      "               M         37.875000\n",
      "none           F         36.500000\n",
      "               M         18.600000\n",
      "other          F         35.472222\n",
      "               M         34.028986\n",
      "programmer     F         32.166667\n",
      "               M         33.216667\n",
      "retired        F         70.000000\n",
      "               M         62.538462\n",
      "salesman       F         27.000000\n",
      "               M         38.555556\n",
      "scientist      F         28.333333\n",
      "               M         36.321429\n",
      "student        F         20.750000\n",
      "               M         22.669118\n",
      "technician     F         38.000000\n",
      "               M         32.961538\n",
      "writer         F         37.631579\n",
      "               M         35.346154\n",
      "Name: age, dtype: float64\n",
      "\n",
      "\n"
     ]
    }
   ],
   "source": [
    "# Step 7: For each combination of occupation and sex, calculate the mean age\n",
    "print(\"Step 7: Mean age per occupation and sex\")\n",
    "mean_age_per_occupation_sex = users.groupby(['occupation', 'gender'])['age'].mean()\n",
    "print(mean_age_per_occupation_sex)\n",
    "print(\"\\n\")"
   ]
  },
  {
   "cell_type": "markdown",
   "id": "6793bc30-527e-4288-9fbe-7c600de2d8b7",
   "metadata": {},
   "source": [
    "**Step 8: For each occupation present the percentage of women and men.**<br>\r",
    "We'll need to calculate the percentage of men and women for each occupation. This can be done by first grouping by occupation and gender, then calculating the percentage of each gender within each occupation."
   ]
  },
  {
   "cell_type": "code",
   "execution_count": 28,
   "id": "f0e93ff1-12d4-4210-bfb6-3a3a11816e34",
   "metadata": {},
   "outputs": [
    {
     "name": "stdout",
     "output_type": "stream",
     "text": [
      "Step 8: Percentage of women and men per occupation\n",
      "occupation     occupation     gender\n",
      "administrator  administrator  M          54.430380\n",
      "                              F          45.569620\n",
      "artist         artist         M          53.571429\n",
      "                              F          46.428571\n",
      "doctor         doctor         M         100.000000\n",
      "educator       educator       M          72.631579\n",
      "                              F          27.368421\n",
      "engineer       engineer       M          97.014925\n",
      "                              F           2.985075\n",
      "entertainment  entertainment  M          88.888889\n",
      "                              F          11.111111\n",
      "executive      executive      M          90.625000\n",
      "                              F           9.375000\n",
      "healthcare     healthcare     F          68.750000\n",
      "                              M          31.250000\n",
      "homemaker      homemaker      F          85.714286\n",
      "                              M          14.285714\n",
      "lawyer         lawyer         M          83.333333\n",
      "                              F          16.666667\n",
      "librarian      librarian      F          56.862745\n",
      "                              M          43.137255\n",
      "marketing      marketing      M          61.538462\n",
      "                              F          38.461538\n",
      "none           none           M          55.555556\n",
      "                              F          44.444444\n",
      "other          other          M          65.714286\n",
      "                              F          34.285714\n",
      "programmer     programmer     M          90.909091\n",
      "                              F           9.090909\n",
      "retired        retired        M          92.857143\n",
      "                              F           7.142857\n",
      "salesman       salesman       M          75.000000\n",
      "                              F          25.000000\n",
      "scientist      scientist      M          90.322581\n",
      "                              F           9.677419\n",
      "student        student        M          69.387755\n",
      "                              F          30.612245\n",
      "technician     technician     M          96.296296\n",
      "                              F           3.703704\n",
      "writer         writer         M          57.777778\n",
      "                              F          42.222222\n",
      "Name: count, dtype: float64\n"
     ]
    }
   ],
   "source": [
    "# Step 8: For each occupation present the percentage of women and men\n",
    "print(\"Step 8: Percentage of women and men per occupation\")\n",
    "total_gender_per_occupation = users.groupby('occupation')['gender'].value_counts()\n",
    "percentage_gender_per_occupation = total_gender_per_occupation.groupby(level=0).apply(lambda x: 100 * x / float(x.sum()))\n",
    "print(percentage_gender_per_occupation)"
   ]
  },
  {
   "cell_type": "markdown",
   "id": "a9bfc20f-86af-4051-8e37-232f8df09c05",
   "metadata": {},
   "source": [
    "<br>"
   ]
  },
  {
   "cell_type": "markdown",
   "id": "dfd00d77-007f-4b8d-b2ea-6f3af00df0f2",
   "metadata": {},
   "source": [
    "# (Q.2) -> \"Euro Teams\"\n"
   ]
  },
  {
   "cell_type": "markdown",
   "id": "330ff492-13e7-4298-a9fa-6d6987efbb87",
   "metadata": {},
   "source": [
    "**Step 1: Import the necessary libraries**<br>\n",
    "You'll likely need libraries such as Pandas and NumPy for data manipulation and analysis. You can import them like this:"
   ]
  },
  {
   "cell_type": "code",
   "execution_count": null,
   "id": "e770d9f3-7ced-4ce1-9d25-0679936386ce",
   "metadata": {},
   "outputs": [],
   "source": [
    "import pandas as pd"
   ]
  },
  {
   "cell_type": "markdown",
   "id": "a129a00e-3443-46d2-9363-8b701aa34306",
   "metadata": {},
   "source": [
    "<br>"
   ]
  },
  {
   "cell_type": "markdown",
   "id": "5e254f54-d9ca-475a-899c-c9a0ea0aa64a",
   "metadata": {},
   "source": [
    "**Step 2: Import the dataset from the provided address.**<br>\n",
    "We can use Pandas' read_csv() function to import the dataset."
   ]
  },
  {
   "cell_type": "code",
   "execution_count": 31,
   "id": "f75e7243-6eb5-43ae-b387-9537a88c1b2a",
   "metadata": {},
   "outputs": [],
   "source": [
    "# Read data from URL into a DataFrame\n",
    "url = \"https://raw.githubusercontent.com/guipsamora/pandas_exercises/master/02_Filtering_%26_Sorting/Euro12/Euro_2012_stats_TEAM.csv\"\n",
    "data = pd.read_csv(url, sep='|')"
   ]
  },
  {
   "cell_type": "markdown",
   "id": "5938df9b-f09d-49ed-8cb5-10bdc5e0a452",
   "metadata": {},
   "source": [
    "<br>"
   ]
  },
  {
   "cell_type": "markdown",
   "id": "4e49bfe9-b072-42ea-9f7f-77634a7d9fbe",
   "metadata": {},
   "source": [
    "**Step 3: Assign it to a variable called euro12.**<br>\n",
    "This step is simply assigning the dataset to a variable called 'euro12', as shown below."
   ]
  },
  {
   "cell_type": "code",
   "execution_count": 32,
   "id": "53a591f4-8695-4ebe-9b59-215e9e5d1634",
   "metadata": {},
   "outputs": [
    {
     "name": "stdout",
     "output_type": "stream",
     "text": [
      "Data has been successfully written to user_data1.xlsx\n"
     ]
    }
   ],
   "source": [
    "# Write DataFrame to Excel file\n",
    "excel_file = \"user_data1.xlsx\"\n",
    "data.to_excel(excel_file, index=False)\n",
    "\n",
    "print(\"Data has been successfully written to\", excel_file)"
   ]
  },
  {
   "cell_type": "markdown",
   "id": "5d8620e6-4ff5-4c4e-905f-2e0bcdeb46c4",
   "metadata": {},
   "source": [
    "<br>"
   ]
  },
  {
   "cell_type": "markdown",
   "id": "07e6ed01-6aa6-4dc4-99b7-d3225362196f",
   "metadata": {},
   "source": [
    "**Step 3(b): Copy the dataset to local system.**"
   ]
  },
  {
   "cell_type": "code",
   "execution_count": 33,
   "id": "cd25aec0-8b5b-4820-b1ee-5f202e8d474f",
   "metadata": {},
   "outputs": [
    {
     "name": "stdout",
     "output_type": "stream",
     "text": [
      "File has been successfully copied to C:\\Users\\profi\\Desktop\n"
     ]
    }
   ],
   "source": [
    "import shutil\n",
    "\n",
    "# Source file path\n",
    "source_file = \"user_data1.xlsx\"\n",
    "\n",
    "# Destination directory where you want to save the file\n",
    "destination_directory = \"C:\\\\Users\\\\profi\\\\Desktop\"\n",
    "\n",
    "# Copy the file to the destination directory\n",
    "shutil.copy(source_file, destination_directory)\n",
    "\n",
    "print(\"File has been successfully copied to\", destination_directory)"
   ]
  },
  {
   "cell_type": "markdown",
   "id": "11f761db-04b4-4acb-aa55-8913689bf3c1",
   "metadata": {},
   "source": [
    "<br>"
   ]
  },
  {
   "cell_type": "markdown",
   "id": "bd858b5d-b304-43a7-8bf3-ebff1ed6b7cd",
   "metadata": {},
   "source": [
    "**Step 3(c): Import the dataset.**"
   ]
  },
  {
   "cell_type": "code",
   "execution_count": 39,
   "id": "33c5b2e1-e65f-438a-8518-757829bac12b",
   "metadata": {},
   "outputs": [],
   "source": [
    "import pandas as pd\n",
    "\n",
    "# Step 3: Import the dataset and assign it to a variable called euro12\n",
    "url = \"https://raw.githubusercontent.com/guipsamora/pandas_exercises/master/02_Filtering_%26_Sorting/Euro12/Euro_2012_stats_TEAM.csv\"\n",
    "euro12 = pd.read_csv(url)"
   ]
  },
  {
   "cell_type": "markdown",
   "id": "2480e783-6fd2-4f3a-a09f-314ba4307b3b",
   "metadata": {},
   "source": [
    "<br>"
   ]
  },
  {
   "cell_type": "markdown",
   "id": "5fecbbf1-2c27-4c4e-849b-f03cd55b9909",
   "metadata": {},
   "source": [
    "**Step 4: Select only the Goal column.**"
   ]
  },
  {
   "cell_type": "code",
   "execution_count": 40,
   "id": "24ecaede-9bf7-468c-a6ec-11fb0bbc788f",
   "metadata": {},
   "outputs": [
    {
     "name": "stdout",
     "output_type": "stream",
     "text": [
      "\n",
      "Step 4: Goals column\n",
      "0      4\n",
      "1      4\n",
      "2      4\n",
      "3      5\n",
      "4      3\n",
      "5     10\n",
      "6      5\n",
      "7      6\n",
      "8      2\n",
      "9      2\n",
      "10     6\n",
      "11     1\n",
      "12     5\n",
      "13    12\n",
      "14     5\n",
      "15     2\n",
      "Name: Goals, dtype: int64\n"
     ]
    }
   ],
   "source": [
    "# Step 4: Select only the Goal column\n",
    "goals = euro12['Goals']\n",
    "print(\"\\nStep 4: Goals column\")\n",
    "print(goals)"
   ]
  },
  {
   "cell_type": "markdown",
   "id": "2e2b3897-dced-49c5-bd67-919ab5661e43",
   "metadata": {},
   "source": [
    "<br>"
   ]
  },
  {
   "cell_type": "markdown",
   "id": "a10914e2-ee60-471a-aad5-1a21766c0def",
   "metadata": {},
   "source": [
    "**Step 5: How many teams participated in the Euro2012?**"
   ]
  },
  {
   "cell_type": "code",
   "execution_count": 41,
   "id": "9d37890c-6b92-44dc-a376-198d1f30282c",
   "metadata": {},
   "outputs": [
    {
     "name": "stdout",
     "output_type": "stream",
     "text": [
      "\n",
      "Step 5: Number of teams participated in Euro2012\n",
      "16\n"
     ]
    }
   ],
   "source": [
    "# Step 5: How many teams participated in the Euro2012?\n",
    "num_teams = euro12['Team'].nunique()\n",
    "print(\"\\nStep 5: Number of teams participated in Euro2012\")\n",
    "print(num_teams)"
   ]
  },
  {
   "cell_type": "markdown",
   "id": "41db6cd0-3139-4043-a560-72e1e13440be",
   "metadata": {},
   "source": [
    "<br>"
   ]
  },
  {
   "cell_type": "markdown",
   "id": "4c4f0005-da5d-4cf9-97ef-a042a4353e8b",
   "metadata": {},
   "source": [
    "**Step 6: What is the number of columns in the dataset?**"
   ]
  },
  {
   "cell_type": "code",
   "execution_count": 42,
   "id": "19dea7fa-3b56-4375-8cdd-4fd11f2a4320",
   "metadata": {},
   "outputs": [
    {
     "name": "stdout",
     "output_type": "stream",
     "text": [
      "\n",
      "Step 6: Number of columns in the dataset\n",
      "35\n"
     ]
    }
   ],
   "source": [
    "# Step 6: What is the number of columns in the dataset?\n",
    "num_columns = euro12.shape[1]\n",
    "print(\"\\nStep 6: Number of columns in the dataset\")\n",
    "print(num_columns)"
   ]
  },
  {
   "cell_type": "markdown",
   "id": "0e400e4d-578d-4b7c-934c-b486acdb64aa",
   "metadata": {},
   "source": [
    "<br>"
   ]
  },
  {
   "cell_type": "markdown",
   "id": "139e37ec-cab8-4e36-991c-a3c68028c8ff",
   "metadata": {},
   "source": [
    "**Step 7: View only the columns Team, Yellow Cards, and Red Cards and assign them to a dataframe called discipline.**"
   ]
  },
  {
   "cell_type": "code",
   "execution_count": 44,
   "id": "49fedee2-939c-4cc6-aa8a-035027d4d1f5",
   "metadata": {},
   "outputs": [
    {
     "name": "stdout",
     "output_type": "stream",
     "text": [
      "\n",
      "Step 7: Discipline dataframe\n",
      "                   Team  Yellow Cards  Red Cards\n",
      "0               Croatia             9          0\n",
      "1        Czech Republic             7          0\n",
      "2               Denmark             4          0\n",
      "3               England             5          0\n",
      "4                France             6          0\n",
      "5               Germany             4          0\n",
      "6                Greece             9          1\n",
      "7                 Italy            16          0\n",
      "8           Netherlands             5          0\n",
      "9                Poland             7          1\n",
      "10             Portugal            12          0\n",
      "11  Republic of Ireland             6          1\n",
      "12               Russia             6          0\n",
      "13                Spain            11          0\n",
      "14               Sweden             7          0\n",
      "15              Ukraine             5          0\n"
     ]
    }
   ],
   "source": [
    "# Step 7: View only the columns Team, Yellow Cards and Red Cards and assign them to a dataframe called discipline\n",
    "discipline = euro12[['Team', 'Yellow Cards', 'Red Cards']]\n",
    "print(\"\\nStep 7: Discipline dataframe\")\n",
    "print(discipline)"
   ]
  },
  {
   "cell_type": "markdown",
   "id": "4986bb8c-1b1c-4c5e-903b-b6d4c88948c9",
   "metadata": {},
   "source": [
    "<br>"
   ]
  },
  {
   "cell_type": "markdown",
   "id": "8425641b-285f-4a65-a0be-a2653a59fe90",
   "metadata": {},
   "source": [
    "**Step 8: Sort the teams by Red Cards, then by Yellow Cards.**"
   ]
  },
  {
   "cell_type": "code",
   "execution_count": 45,
   "id": "5274d2ca-fe54-40e0-b178-4878d775ba38",
   "metadata": {},
   "outputs": [
    {
     "name": "stdout",
     "output_type": "stream",
     "text": [
      "\n",
      "Step 8: Discipline sorted by Red Cards and Yellow Cards\n",
      "                   Team  Yellow Cards  Red Cards\n",
      "6                Greece             9          1\n",
      "9                Poland             7          1\n",
      "11  Republic of Ireland             6          1\n",
      "7                 Italy            16          0\n",
      "10             Portugal            12          0\n",
      "13                Spain            11          0\n",
      "0               Croatia             9          0\n",
      "1        Czech Republic             7          0\n",
      "14               Sweden             7          0\n",
      "4                France             6          0\n",
      "12               Russia             6          0\n",
      "3               England             5          0\n",
      "8           Netherlands             5          0\n",
      "15              Ukraine             5          0\n",
      "2               Denmark             4          0\n",
      "5               Germany             4          0\n"
     ]
    }
   ],
   "source": [
    "# Step 8: Sort the teams by Red Cards, then by Yellow Cards\n",
    "discipline_sorted = discipline.sort_values(by=['Red Cards', 'Yellow Cards'], ascending=False)\n",
    "print(\"\\nStep 8: Discipline sorted by Red Cards and Yellow Cards\")\n",
    "print(discipline_sorted)"
   ]
  },
  {
   "cell_type": "markdown",
   "id": "cc57c642-a611-484d-84b9-833ffe2203d7",
   "metadata": {},
   "source": [
    "<br>"
   ]
  },
  {
   "cell_type": "markdown",
   "id": "657d1088-e560-4a34-a6e7-bc5c79ea8b5d",
   "metadata": {},
   "source": [
    "**Step 9: Calculate the mean Yellow Cards given per Team.**"
   ]
  },
  {
   "cell_type": "code",
   "execution_count": 46,
   "id": "d16f69a3-add1-4d86-95f9-a1365876fbe7",
   "metadata": {},
   "outputs": [
    {
     "name": "stdout",
     "output_type": "stream",
     "text": [
      "\n",
      "Step 9: Mean Yellow Cards per Team\n",
      "7.4375\n"
     ]
    }
   ],
   "source": [
    "# Step 9: Calculate the mean Yellow Cards given per Team\n",
    "mean_yellow_cards = discipline['Yellow Cards'].mean()\n",
    "print(\"\\nStep 9: Mean Yellow Cards per Team\")\n",
    "print(mean_yellow_cards)"
   ]
  },
  {
   "cell_type": "markdown",
   "id": "9cf2dfb0-32d9-4ade-9afd-81ed86afb3e6",
   "metadata": {},
   "source": [
    "<br>"
   ]
  },
  {
   "cell_type": "markdown",
   "id": "1623ee7a-9a18-4f34-ba46-dee426008908",
   "metadata": {},
   "source": [
    "**Step 10: Filter teams that scored more than 6 goals.**"
   ]
  },
  {
   "cell_type": "code",
   "execution_count": 48,
   "id": "b8004863-4b84-40fb-8b54-0ce2c7c8cd00",
   "metadata": {},
   "outputs": [
    {
     "name": "stdout",
     "output_type": "stream",
     "text": [
      "\n",
      "Step 10: Teams with more than 6 goals\n",
      "       Team  Goals  Shots on target  Shots off target Shooting Accuracy  \\\n",
      "5   Germany     10               32                32             47.8%   \n",
      "13    Spain     12               42                33             55.9%   \n",
      "\n",
      "   % Goals-to-shots  Total shots (inc. Blocked)  Hit Woodwork  Penalty goals  \\\n",
      "5             15.6%                          80             2              1   \n",
      "13            16.0%                         100             0              1   \n",
      "\n",
      "    Penalties not scored  ...  Saves made  Saves-to-shots ratio  Fouls Won  \\\n",
      "5                      0  ...          10                 62.6%         63   \n",
      "13                     0  ...          15                 93.8%        102   \n",
      "\n",
      "   Fouls Conceded  Offsides  Yellow Cards  Red Cards  Subs on  Subs off  \\\n",
      "5              49        12             4          0       15        15   \n",
      "13             83        19            11          0       17        17   \n",
      "\n",
      "    Players Used  \n",
      "5             17  \n",
      "13            18  \n",
      "\n",
      "[2 rows x 35 columns]\n"
     ]
    }
   ],
   "source": [
    "# Step 10: Filter teams that scored more than 6 goals\n",
    "high_scorers = euro12[euro12['Goals'] > 6]\n",
    "print(\"\\nStep 10: Teams with more than 6 goals\")\n",
    "print(high_scorers)"
   ]
  },
  {
   "cell_type": "markdown",
   "id": "0cd0e728-bbf1-4432-9dbb-f09232428aa5",
   "metadata": {},
   "source": [
    "<br>"
   ]
  },
  {
   "cell_type": "markdown",
   "id": "371de707-221c-4536-9812-1fa8f1295baa",
   "metadata": {},
   "source": [
    "**Step 11: Select the teams that start with G**"
   ]
  },
  {
   "cell_type": "code",
   "execution_count": 49,
   "id": "068c2705-4999-4e1a-8c2f-99eca6855f14",
   "metadata": {},
   "outputs": [
    {
     "name": "stdout",
     "output_type": "stream",
     "text": [
      "\n",
      "Step 11: Teams starting with G\n",
      "      Team  Goals  Shots on target  Shots off target Shooting Accuracy  \\\n",
      "5  Germany     10               32                32             47.8%   \n",
      "6   Greece      5                8                18             30.7%   \n",
      "\n",
      "  % Goals-to-shots  Total shots (inc. Blocked)  Hit Woodwork  Penalty goals  \\\n",
      "5            15.6%                          80             2              1   \n",
      "6            19.2%                          32             1              1   \n",
      "\n",
      "   Penalties not scored  ...  Saves made  Saves-to-shots ratio  Fouls Won  \\\n",
      "5                     0  ...          10                 62.6%         63   \n",
      "6                     1  ...          13                 65.1%         67   \n",
      "\n",
      "  Fouls Conceded  Offsides  Yellow Cards  Red Cards  Subs on  Subs off  \\\n",
      "5             49        12             4          0       15        15   \n",
      "6             48        12             9          1       12        12   \n",
      "\n",
      "   Players Used  \n",
      "5            17  \n",
      "6            20  \n",
      "\n",
      "[2 rows x 35 columns]\n"
     ]
    }
   ],
   "source": [
    "# Step 11: Select the teams that start with G\n",
    "teams_starting_with_G = euro12[euro12['Team'].str.startswith('G')]\n",
    "print(\"\\nStep 11: Teams starting with G\")\n",
    "print(teams_starting_with_G)"
   ]
  },
  {
   "cell_type": "markdown",
   "id": "8b6add42-3251-45c7-bc37-31060e108211",
   "metadata": {},
   "source": [
    "<br>"
   ]
  },
  {
   "cell_type": "markdown",
   "id": "d84d6d82-09ad-4123-b6ca-d86e8f4e1ccb",
   "metadata": {},
   "source": [
    "**Step 12: Select the first 7 columns.**"
   ]
  },
  {
   "cell_type": "code",
   "execution_count": 50,
   "id": "d201aaf0-47c6-4382-9a43-0b19601bad86",
   "metadata": {},
   "outputs": [
    {
     "name": "stdout",
     "output_type": "stream",
     "text": [
      "\n",
      "Step 12: First 7 columns\n",
      "                   Team  Goals  Shots on target  Shots off target  \\\n",
      "0               Croatia      4               13                12   \n",
      "1        Czech Republic      4               13                18   \n",
      "2               Denmark      4               10                10   \n",
      "3               England      5               11                18   \n",
      "4                France      3               22                24   \n",
      "5               Germany     10               32                32   \n",
      "6                Greece      5                8                18   \n",
      "7                 Italy      6               34                45   \n",
      "8           Netherlands      2               12                36   \n",
      "9                Poland      2               15                23   \n",
      "10             Portugal      6               22                42   \n",
      "11  Republic of Ireland      1                7                12   \n",
      "12               Russia      5                9                31   \n",
      "13                Spain     12               42                33   \n",
      "14               Sweden      5               17                19   \n",
      "15              Ukraine      2                7                26   \n",
      "\n",
      "   Shooting Accuracy % Goals-to-shots  Total shots (inc. Blocked)  \n",
      "0              51.9%            16.0%                          32  \n",
      "1              41.9%            12.9%                          39  \n",
      "2              50.0%            20.0%                          27  \n",
      "3              50.0%            17.2%                          40  \n",
      "4              37.9%             6.5%                          65  \n",
      "5              47.8%            15.6%                          80  \n",
      "6              30.7%            19.2%                          32  \n",
      "7              43.0%             7.5%                         110  \n",
      "8              25.0%             4.1%                          60  \n",
      "9              39.4%             5.2%                          48  \n",
      "10             34.3%             9.3%                          82  \n",
      "11             36.8%             5.2%                          28  \n",
      "12             22.5%            12.5%                          59  \n",
      "13             55.9%            16.0%                         100  \n",
      "14             47.2%            13.8%                          39  \n",
      "15             21.2%             6.0%                          38  \n"
     ]
    }
   ],
   "source": [
    "# Step 12: Select the first 7 columns\n",
    "first_seven_columns = euro12.iloc[:, :7]\n",
    "print(\"\\nStep 12: First 7 columns\")\n",
    "print(first_seven_columns)"
   ]
  },
  {
   "cell_type": "markdown",
   "id": "8eef5c01-5b07-4f9b-b473-f514e7253ef1",
   "metadata": {},
   "source": [
    "<br>"
   ]
  },
  {
   "cell_type": "markdown",
   "id": "1c2edcc7-7c4c-4f81-ba30-c118f263933c",
   "metadata": {},
   "source": [
    "**Step 13: Select all columns except the last 3.**"
   ]
  },
  {
   "cell_type": "code",
   "execution_count": 51,
   "id": "ead9812c-f93b-47a1-8347-a86acee61d7d",
   "metadata": {},
   "outputs": [
    {
     "name": "stdout",
     "output_type": "stream",
     "text": [
      "\n",
      "Step 13: All columns except the last 3\n",
      "                   Team  Goals  Shots on target  Shots off target  \\\n",
      "0               Croatia      4               13                12   \n",
      "1        Czech Republic      4               13                18   \n",
      "2               Denmark      4               10                10   \n",
      "3               England      5               11                18   \n",
      "4                France      3               22                24   \n",
      "5               Germany     10               32                32   \n",
      "6                Greece      5                8                18   \n",
      "7                 Italy      6               34                45   \n",
      "8           Netherlands      2               12                36   \n",
      "9                Poland      2               15                23   \n",
      "10             Portugal      6               22                42   \n",
      "11  Republic of Ireland      1                7                12   \n",
      "12               Russia      5                9                31   \n",
      "13                Spain     12               42                33   \n",
      "14               Sweden      5               17                19   \n",
      "15              Ukraine      2                7                26   \n",
      "\n",
      "   Shooting Accuracy % Goals-to-shots  Total shots (inc. Blocked)  \\\n",
      "0              51.9%            16.0%                          32   \n",
      "1              41.9%            12.9%                          39   \n",
      "2              50.0%            20.0%                          27   \n",
      "3              50.0%            17.2%                          40   \n",
      "4              37.9%             6.5%                          65   \n",
      "5              47.8%            15.6%                          80   \n",
      "6              30.7%            19.2%                          32   \n",
      "7              43.0%             7.5%                         110   \n",
      "8              25.0%             4.1%                          60   \n",
      "9              39.4%             5.2%                          48   \n",
      "10             34.3%             9.3%                          82   \n",
      "11             36.8%             5.2%                          28   \n",
      "12             22.5%            12.5%                          59   \n",
      "13             55.9%            16.0%                         100   \n",
      "14             47.2%            13.8%                          39   \n",
      "15             21.2%             6.0%                          38   \n",
      "\n",
      "    Hit Woodwork  Penalty goals  Penalties not scored  ...  Clean Sheets  \\\n",
      "0              0              0                     0  ...             0   \n",
      "1              0              0                     0  ...             1   \n",
      "2              1              0                     0  ...             1   \n",
      "3              0              0                     0  ...             2   \n",
      "4              1              0                     0  ...             1   \n",
      "5              2              1                     0  ...             1   \n",
      "6              1              1                     1  ...             1   \n",
      "7              2              0                     0  ...             2   \n",
      "8              2              0                     0  ...             0   \n",
      "9              0              0                     0  ...             0   \n",
      "10             6              0                     0  ...             2   \n",
      "11             0              0                     0  ...             0   \n",
      "12             2              0                     0  ...             0   \n",
      "13             0              1                     0  ...             5   \n",
      "14             3              0                     0  ...             1   \n",
      "15             0              0                     0  ...             0   \n",
      "\n",
      "    Blocks  Goals conceded Saves made  Saves-to-shots ratio  Fouls Won  \\\n",
      "0       10               3         13                 81.3%         41   \n",
      "1       10               6          9                 60.1%         53   \n",
      "2       10               5         10                 66.7%         25   \n",
      "3       29               3         22                 88.1%         43   \n",
      "4        7               5          6                 54.6%         36   \n",
      "5       11               6         10                 62.6%         63   \n",
      "6       23               7         13                 65.1%         67   \n",
      "7       18               7         20                 74.1%        101   \n",
      "8        9               5         12                 70.6%         35   \n",
      "9        8               3          6                 66.7%         48   \n",
      "10      11               4         10                 71.5%         73   \n",
      "11      23               9         17                 65.4%         43   \n",
      "12       8               3         10                 77.0%         34   \n",
      "13       8               1         15                 93.8%        102   \n",
      "14      12               5          8                 61.6%         35   \n",
      "15       4               4         13                 76.5%         48   \n",
      "\n",
      "    Fouls Conceded  Offsides  Yellow Cards  Red Cards  \n",
      "0               62         2             9          0  \n",
      "1               73         8             7          0  \n",
      "2               38         8             4          0  \n",
      "3               45         6             5          0  \n",
      "4               51         5             6          0  \n",
      "5               49        12             4          0  \n",
      "6               48        12             9          1  \n",
      "7               89        16            16          0  \n",
      "8               30         3             5          0  \n",
      "9               56         3             7          1  \n",
      "10              90        10            12          0  \n",
      "11              51        11             6          1  \n",
      "12              43         4             6          0  \n",
      "13              83        19            11          0  \n",
      "14              51         7             7          0  \n",
      "15              31         4             5          0  \n",
      "\n",
      "[16 rows x 32 columns]\n"
     ]
    }
   ],
   "source": [
    "# Step 13: Select all columns except the last 3\n",
    "all_except_last_three = euro12.iloc[:, :-3]\n",
    "print(\"\\nStep 13: All columns except the last 3\")\n",
    "print(all_except_last_three)"
   ]
  },
  {
   "cell_type": "markdown",
   "id": "167ac8cd-089b-45c3-b424-0ff1df032e4e",
   "metadata": {},
   "source": [
    "<br>"
   ]
  },
  {
   "cell_type": "markdown",
   "id": "27f0ab8d-551c-4478-9396-7de2a9de9a12",
   "metadata": {},
   "source": [
    "**Step 14: Present only the Shooting Accuracy from England, Italy, and Russia.**"
   ]
  },
  {
   "cell_type": "code",
   "execution_count": 52,
   "id": "5e7544a9-3060-424f-80dc-6018d86e077c",
   "metadata": {},
   "outputs": [
    {
     "name": "stdout",
     "output_type": "stream",
     "text": [
      "\n",
      "Step 14: Shooting Accuracy of England, Italy, and Russia\n",
      "       Team Shooting Accuracy\n",
      "3   England             50.0%\n",
      "7     Italy             43.0%\n",
      "12   Russia             22.5%\n"
     ]
    }
   ],
   "source": [
    "# Step 14: Present only the Shooting Accuracy from England, Italy and Russia\n",
    "shooting_accuracy = euro12.loc[euro12['Team'].isin(['England', 'Italy', 'Russia']), ['Team', 'Shooting Accuracy']]\n",
    "print(\"\\nStep 14: Shooting Accuracy of England, Italy, and Russia\")\n",
    "print(shooting_accuracy)"
   ]
  },
  {
   "cell_type": "markdown",
   "id": "04c22e4c-7153-4e11-9657-f4876487add4",
   "metadata": {},
   "source": [
    "<br>"
   ]
  },
  {
   "cell_type": "markdown",
   "id": "939ea657-a075-4e60-81e8-979f26197e34",
   "metadata": {},
   "source": [
    "# (Q.3) -> \"HOUSING\""
   ]
  },
  {
   "cell_type": "markdown",
   "id": "9c39f10f-e81a-4184-aca6-1261e28cfb51",
   "metadata": {},
   "source": [
    "**Step 1: Import the necessary libraries.**"
   ]
  },
  {
   "cell_type": "code",
   "execution_count": 5,
   "id": "5b0954ff-4bf2-4ff1-a3a0-db958719c5ff",
   "metadata": {},
   "outputs": [
    {
     "name": "stdout",
     "output_type": "stream",
     "text": [
      "Step 1: Libraries imported successfully.\n"
     ]
    }
   ],
   "source": [
    "# Step 1: Import the necessary libraries\n",
    "import pandas as pd\n",
    "import numpy as np\n",
    "print(\"Step 1: Libraries imported successfully.\")"
   ]
  },
  {
   "cell_type": "markdown",
   "id": "095ba41b-7195-4fbe-bcf4-d4a374727f4f",
   "metadata": {},
   "source": [
    "<br>"
   ]
  },
  {
   "cell_type": "markdown",
   "id": "809cc81f-f4b2-4b66-b053-e07d9d31b593",
   "metadata": {},
   "source": [
    "**Step 2: Create 3 different Series.**"
   ]
  },
  {
   "cell_type": "code",
   "execution_count": 6,
   "id": "8878b924-e59a-4c08-aa3f-7e4828457023",
   "metadata": {},
   "outputs": [
    {
     "name": "stdout",
     "output_type": "stream",
     "text": [
      "\n",
      "Step 2: 3 Series created successfully.\n",
      "Series 1:\n",
      "0     3\n",
      "1     1\n",
      "2     2\n",
      "3     1\n",
      "4     2\n",
      "     ..\n",
      "95    4\n",
      "96    2\n",
      "97    4\n",
      "98    2\n",
      "99    2\n",
      "Length: 100, dtype: int32\n",
      "\n",
      "Series 2:\n",
      "0     2\n",
      "1     1\n",
      "2     1\n",
      "3     2\n",
      "4     1\n",
      "     ..\n",
      "95    3\n",
      "96    2\n",
      "97    1\n",
      "98    2\n",
      "99    2\n",
      "Length: 100, dtype: int32\n",
      "\n",
      "Series 3:\n",
      "0     21513\n",
      "1     26367\n",
      "2     12606\n",
      "3     22828\n",
      "4     23311\n",
      "      ...  \n",
      "95    26396\n",
      "96    14844\n",
      "97    14794\n",
      "98    22183\n",
      "99    13931\n",
      "Length: 100, dtype: int32\n"
     ]
    }
   ],
   "source": [
    "# Step 2: Create 3 different Series\n",
    "series1 = pd.Series(np.random.randint(1, 5, size=100))\n",
    "series2 = pd.Series(np.random.randint(1, 4, size=100))\n",
    "series3 = pd.Series(np.random.randint(10000, 30001, size=100))\n",
    "print(\"\\nStep 2: 3 Series created successfully.\")\n",
    "print(\"Series 1:\")\n",
    "print(series1)\n",
    "print(\"\\nSeries 2:\")\n",
    "print(series2)\n",
    "print(\"\\nSeries 3:\")\n",
    "print(series3)"
   ]
  },
  {
   "cell_type": "markdown",
   "id": "a6cc5585-a779-465c-a5ac-86b8f77f92a4",
   "metadata": {},
   "source": [
    "<br>"
   ]
  },
  {
   "cell_type": "markdown",
   "id": "3877a53c-a6bf-444d-bf1a-1086511d8bc8",
   "metadata": {},
   "source": [
    "**Step 3: Create a DataFrame by joining the Series by column.**"
   ]
  },
  {
   "cell_type": "code",
   "execution_count": 7,
   "id": "9575bc3b-3515-41c5-912b-48784bdc402f",
   "metadata": {},
   "outputs": [
    {
     "name": "stdout",
     "output_type": "stream",
     "text": [
      "\n",
      "Step 3: DataFrame created successfully.\n",
      "\n",
      "DataFrame:\n",
      "    bedrs  bathrs  price_sqr_meter\n",
      "0       3       2            21513\n",
      "1       1       1            26367\n",
      "2       2       1            12606\n",
      "3       1       2            22828\n",
      "4       2       1            23311\n",
      "..    ...     ...              ...\n",
      "95      4       3            26396\n",
      "96      2       2            14844\n",
      "97      4       1            14794\n",
      "98      2       2            22183\n",
      "99      2       2            13931\n",
      "\n",
      "[100 rows x 3 columns]\n"
     ]
    }
   ],
   "source": [
    "# Step 3: Create a DataFrame by joining the Series by column\n",
    "df = pd.DataFrame({'bedrs': series1, 'bathrs': series2, 'price_sqr_meter': series3})\n",
    "print(\"\\nStep 3: DataFrame created successfully.\")\n",
    "print(\"\\nDataFrame:\")\n",
    "print(df)"
   ]
  },
  {
   "cell_type": "markdown",
   "id": "fc091d26-05ac-483d-9e5f-42df922a6d80",
   "metadata": {},
   "source": [
    "<br>"
   ]
  },
  {
   "cell_type": "markdown",
   "id": "03f6485a-8c17-4df4-b922-f6b9363b74ac",
   "metadata": {},
   "source": [
    "**Step 4: Change the name of the columns to bedrs, bathrs, price_sqr_meter.**"
   ]
  },
  {
   "cell_type": "code",
   "execution_count": 8,
   "id": "5ea2d0e9-741c-4d79-9d1d-406e4f9d836d",
   "metadata": {},
   "outputs": [
    {
     "name": "stdout",
     "output_type": "stream",
     "text": [
      "\n",
      "Step 4: Columns renamed successfully.\n",
      "\n",
      "DataFrame with renamed columns:\n",
      "    bedrs  bathrs  price_sqr_meter\n",
      "0       3       2            21513\n",
      "1       1       1            26367\n",
      "2       2       1            12606\n",
      "3       1       2            22828\n",
      "4       2       1            23311\n",
      "..    ...     ...              ...\n",
      "95      4       3            26396\n",
      "96      2       2            14844\n",
      "97      4       1            14794\n",
      "98      2       2            22183\n",
      "99      2       2            13931\n",
      "\n",
      "[100 rows x 3 columns]\n"
     ]
    }
   ],
   "source": [
    "# Step 4: Change the name of the columns\n",
    "df.columns = ['bedrs', 'bathrs', 'price_sqr_meter']\n",
    "print(\"\\nStep 4: Columns renamed successfully.\")\n",
    "print(\"\\nDataFrame with renamed columns:\")\n",
    "print(df)"
   ]
  },
  {
   "cell_type": "markdown",
   "id": "60215aa0-5739-46fa-a817-bcc9d7c0bae4",
   "metadata": {},
   "source": [
    "<br>"
   ]
  },
  {
   "cell_type": "markdown",
   "id": "cfd65802-e946-43da-818d-1f92057dfe4e",
   "metadata": {},
   "source": [
    "**Step 5: Create a one-column DataFrame with the values of the 3 Series and assign it to 'bigcolumn'.**"
   ]
  },
  {
   "cell_type": "code",
   "execution_count": 10,
   "id": "ee88a529-8095-4dde-a436-57a760835f49",
   "metadata": {},
   "outputs": [
    {
     "name": "stdout",
     "output_type": "stream",
     "text": [
      "\n",
      "Step 5: One-column DataFrame created successfully.\n",
      "\n",
      "One-column DataFrame:\n",
      "0          3\n",
      "1          1\n",
      "2          2\n",
      "3          1\n",
      "4          2\n",
      "       ...  \n",
      "295    26396\n",
      "296    14844\n",
      "297    14794\n",
      "298    22183\n",
      "299    13931\n",
      "Length: 300, dtype: int32\n"
     ]
    }
   ],
   "source": [
    "# Step 5: Create a one-column DataFrame with the values of the 3 Series and assign it to 'bigcolumn'\n",
    "bigcolumn = pd.concat([series1, series2, series3], axis=0, ignore_index=True)\n",
    "print(\"\\nStep 5: One-column DataFrame created successfully.\")\n",
    "print(\"\\nOne-column DataFrame:\")\n",
    "print(bigcolumn)"
   ]
  },
  {
   "cell_type": "markdown",
   "id": "4d073b2a-0f0b-4ad2-8320-d5810677ae2d",
   "metadata": {},
   "source": [
    "<br>"
   ]
  },
  {
   "cell_type": "markdown",
   "id": "b4d17b2a-d677-4c63-8317-eb59f46db28f",
   "metadata": {},
   "source": [
    "**Step 6: Check if it seems it is going only until index 99.**"
   ]
  },
  {
   "cell_type": "code",
   "execution_count": 11,
   "id": "9c425f0c-6dbe-42ed-acb3-3d1a7a132c7e",
   "metadata": {},
   "outputs": [
    {
     "name": "stdout",
     "output_type": "stream",
     "text": [
      "\n",
      "Step 6: Is it true that it is going only until index 99?\n",
      "False\n"
     ]
    }
   ],
   "source": [
    "# Step 6: Check if it is going only until index 99\n",
    "print(\"\\nStep 6: Is it true that it is going only until index 99?\")\n",
    "print(bigcolumn.index.max() == 99)"
   ]
  },
  {
   "cell_type": "markdown",
   "id": "0a7cd8e1-ab4b-4e47-990c-d0057fcf99e4",
   "metadata": {},
   "source": [
    "<br>"
   ]
  },
  {
   "cell_type": "markdown",
   "id": "0d008bb4-e34c-4e51-bb0f-52d4378ff49b",
   "metadata": {},
   "source": [
    "**Step 7: Reindex the DataFrame so it goes from 0 to 299.**"
   ]
  },
  {
   "cell_type": "code",
   "execution_count": 12,
   "id": "81e57bbd-4250-4951-8345-1b74e745f6e0",
   "metadata": {},
   "outputs": [
    {
     "name": "stdout",
     "output_type": "stream",
     "text": [
      "\n",
      "Step 7: DataFrame reindexed successfully.\n",
      "\n",
      "DataFrame after reindexing:\n",
      "     bedrs  bathrs  price_sqr_meter\n",
      "0      3.0     2.0          21513.0\n",
      "1      1.0     1.0          26367.0\n",
      "2      2.0     1.0          12606.0\n",
      "3      1.0     2.0          22828.0\n",
      "4      2.0     1.0          23311.0\n",
      "..     ...     ...              ...\n",
      "295    NaN     NaN              NaN\n",
      "296    NaN     NaN              NaN\n",
      "297    NaN     NaN              NaN\n",
      "298    NaN     NaN              NaN\n",
      "299    NaN     NaN              NaN\n",
      "\n",
      "[300 rows x 3 columns]\n"
     ]
    }
   ],
   "source": [
    "# Step 7: Reindex the DataFrame so it goes from 0 to 299\n",
    "df = df.reindex(range(300))\n",
    "print(\"\\nStep 7: DataFrame reindexed successfully.\")\n",
    "print(\"\\nDataFrame after reindexing:\")\n",
    "print(df)"
   ]
  },
  {
   "cell_type": "markdown",
   "id": "4edc9d52-eff8-46ee-ad74-4c7caece8be3",
   "metadata": {},
   "source": [
    "<br>"
   ]
  },
  {
   "cell_type": "markdown",
   "id": "051d253c-1990-42e7-854b-f84564282361",
   "metadata": {},
   "source": [
    "# (Q.4) -> \"WIND STATISTICS\""
   ]
  },
  {
   "cell_type": "markdown",
   "id": "0c6d231c-aca3-4ea2-9357-29344c51c559",
   "metadata": {},
   "source": [
    "**Step 1: Import the necessary libraries.**"
   ]
  },
  {
   "cell_type": "code",
   "execution_count": 27,
   "id": "c239a433-8124-49dd-b25e-29eb36955c37",
   "metadata": {},
   "outputs": [],
   "source": [
    "import pandas as pd"
   ]
  },
  {
   "cell_type": "markdown",
   "id": "0af1f799-3f22-4fc8-9363-e1691e7848dc",
   "metadata": {},
   "source": [
    "**Step 2: Import the dataset from the attached file wind.txt.**"
   ]
  },
  {
   "cell_type": "code",
   "execution_count": 28,
   "id": "89a11a66-6daa-4030-9fd8-bbb6b8ef4da6",
   "metadata": {},
   "outputs": [],
   "source": [
    "# Assuming wind.txt is in the same directory as the script/notebook\n",
    "data = pd.read_csv(\"C:\\\\Users\\\\profi\\\\Desktop\\\\wind.txt\", sep='\\s+', parse_dates={'Date': [0, 1, 2]}, date_format='%y %m %d')"
   ]
  },
  {
   "cell_type": "markdown",
   "id": "0960f4ad-ae6f-4e1c-af57-9159c8e43592",
   "metadata": {},
   "source": [
    "<br>"
   ]
  },
  {
   "cell_type": "markdown",
   "id": "e2487172-a42f-49dc-a9ec-dfc98f91bad0",
   "metadata": {},
   "source": [
    "**Step 3: Assign it to a variable called data and replace the first 3 columns by a proper datetime index.**"
   ]
  },
  {
   "cell_type": "code",
   "execution_count": 29,
   "id": "6ff1c1f1-54e7-4fae-ab0d-320c36818f94",
   "metadata": {},
   "outputs": [],
   "source": [
    "data.columns = ['Date', 'RPT', 'VAL', 'ROS', 'KIL', 'SHA', 'BIR', 'DUB', 'CLA', 'MUL', 'CLO', 'BEL', 'MAL']\n",
    "data.set_index('Date', inplace=True)"
   ]
  },
  {
   "cell_type": "markdown",
   "id": "b92530a8-7e1e-4a61-ba9e-838769758c0f",
   "metadata": {},
   "source": [
    "<br>"
   ]
  },
  {
   "cell_type": "markdown",
   "id": "08cf468a-20d4-4d5e-924c-d85cc6a6d6f1",
   "metadata": {},
   "source": [
    "**Step 4: Year 2061? Do we really have data from this year? Create a function to fix it and apply it.**"
   ]
  },
  {
   "cell_type": "code",
   "execution_count": 30,
   "id": "11183ffd-b32a-4e21-a1b7-1ca514956216",
   "metadata": {},
   "outputs": [],
   "source": [
    "# Step 4: Create a function to fix year 2061 and apply it\n",
    "def fix_year(x):\n",
    "    year = x.year - 100 if x.year > 1989 else x.year\n",
    "    return pd.to_datetime(str(year) + '-' + str(x.month) + '-' + str(x.day))"
   ]
  },
  {
   "cell_type": "code",
   "execution_count": 31,
   "id": "9b52a00f-06d8-48c7-b4e8-514a2859beb8",
   "metadata": {},
   "outputs": [],
   "source": [
    "data.index = data.index.map(fix_year)"
   ]
  },
  {
   "cell_type": "markdown",
   "id": "dc0b8e48-dd08-4977-99c7-ea91a02ed932",
   "metadata": {},
   "source": [
    "<br>"
   ]
  },
  {
   "cell_type": "markdown",
   "id": "955d84cc-d482-44e7-9f3c-e2754b6b21ad",
   "metadata": {},
   "source": [
    "**Step 5: Set the right dates as the index. Pay attention to the data type; it should be datetime64[ns].**"
   ]
  },
  {
   "cell_type": "code",
   "execution_count": 34,
   "id": "38343bdb-a9bb-40b1-8db5-1b27114fca6f",
   "metadata": {},
   "outputs": [],
   "source": [
    "# Step 5: Set the right dates as the index\n",
    "data.index = pd.to_datetime(data.index)"
   ]
  },
  {
   "cell_type": "markdown",
   "id": "fb27e39c-7bcf-4173-ada3-ce66455db7a6",
   "metadata": {},
   "source": [
    "<br>"
   ]
  },
  {
   "cell_type": "markdown",
   "id": "2854e687-f5e2-4eab-acac-a44a45d65ecc",
   "metadata": {},
   "source": [
    "**Step 6: Compute how many values are missing for each location over the entire record. They should be ignored in all calculations below.**"
   ]
  },
  {
   "cell_type": "code",
   "execution_count": 35,
   "id": "c7367416-f620-47c9-8274-b355053c012a",
   "metadata": {},
   "outputs": [],
   "source": [
    "# Step 6: Compute how many values are missing for each location over the entire record\n",
    "missing_values = data.isnull().sum()"
   ]
  },
  {
   "cell_type": "markdown",
   "id": "44efaa92-1af7-4e52-abc4-2cd7241f8da8",
   "metadata": {},
   "source": [
    "<br>"
   ]
  },
  {
   "cell_type": "markdown",
   "id": "b88f0f17-c859-4618-b1a7-80a6651f3206",
   "metadata": {},
   "source": [
    "**Step 7: Compute how many non-missing values there are in total.**"
   ]
  },
  {
   "cell_type": "code",
   "execution_count": 36,
   "id": "caf58c84-8ff3-4b9e-8f99-08d2a5b11957",
   "metadata": {},
   "outputs": [],
   "source": [
    "# Step 7: Compute how many non-missing values there are in total\n",
    "total_non_missing = data.notnull().sum().sum()"
   ]
  },
  {
   "cell_type": "markdown",
   "id": "4548dcba-6f27-4ff4-8bb3-a1d657e3131a",
   "metadata": {},
   "source": [
    "<br>"
   ]
  },
  {
   "cell_type": "markdown",
   "id": "66a59f80-ec42-4bd0-bde0-0fd6be674bba",
   "metadata": {},
   "source": [
    "**Step 8: Calculate the mean windspeeds of the windspeeds over all the locations and all the times. A single number for the entire dataset.**"
   ]
  },
  {
   "cell_type": "code",
   "execution_count": 37,
   "id": "d68710bc-164e-4dc9-9b79-5fe409c4c811",
   "metadata": {},
   "outputs": [],
   "source": [
    "# Step 8: Calculate the mean windspeeds of the windspeeds over all the locations and all the times\n",
    "mean_windspeed = data.stack().mean()"
   ]
  },
  {
   "cell_type": "markdown",
   "id": "c488792d-22df-4414-baaf-67b611548467",
   "metadata": {},
   "source": [
    "<br>"
   ]
  },
  {
   "cell_type": "markdown",
   "id": "2510ecc5-df1e-4a4f-b863-dbd5caedcca9",
   "metadata": {},
   "source": [
    "**Step 9: Create a DataFrame called loc_stats and calculate the min, max, and mean windspeeds and standard deviations of the windspeeds at each location over all the days. A different set of numbers for each location.**"
   ]
  },
  {
   "cell_type": "code",
   "execution_count": 38,
   "id": "bbc71b89-d90a-4d16-ad5c-47a312000730",
   "metadata": {},
   "outputs": [],
   "source": [
    "# Step 9: Create loc_stats DataFrame and calculate min, max, mean, and standard deviation of windspeeds at each location\n",
    "loc_stats = data.describe(percentiles=[])"
   ]
  },
  {
   "cell_type": "markdown",
   "id": "d960980a-262f-400b-a8c9-ddd84fddebc4",
   "metadata": {},
   "source": [
    "<br>"
   ]
  },
  {
   "cell_type": "markdown",
   "id": "494649b3-f19d-4fce-9284-fab1ccbb62c5",
   "metadata": {},
   "source": [
    "**Step 10: Create a DataFrame called day_stats and calculate the min, max, mean, and standard deviations of the windspeeds across all the locations at each day. A different set of numbers for each day.**"
   ]
  },
  {
   "cell_type": "code",
   "execution_count": 41,
   "id": "99e4d8a2-261d-4024-b964-18b1fa0be99c",
   "metadata": {},
   "outputs": [],
   "source": [
    "# Step 10: Create day_stats DataFrame and calculate min, max, mean, and standard deviation of windspeeds for each day\n",
    "day_stats = pd.DataFrame()\n",
    "day_stats['min'] = data.min(axis=1)\n",
    "day_stats['max'] = data.max(axis=1)\n",
    "day_stats['mean'] = data.mean(axis=1)\n",
    "day_stats['std'] = data.std(axis=1)"
   ]
  },
  {
   "cell_type": "markdown",
   "id": "6ca01788-9951-4d8a-9a63-2f438be00d6e",
   "metadata": {},
   "source": [
    "<br>"
   ]
  },
  {
   "cell_type": "markdown",
   "id": "faf69e46-2932-47a3-bec6-3ae2ea6247e4",
   "metadata": {},
   "source": [
    "**Step 11: Find the average windspeed in January for each location. Treat January 1961 and January 1962 both as January.**"
   ]
  },
  {
   "cell_type": "code",
   "execution_count": 50,
   "id": "d47c51f4-3991-4bf8-b1ed-d3332150812f",
   "metadata": {},
   "outputs": [],
   "source": [
    "# Step 11: Find the average windspeed in January for each location\n",
    "january_windspeeds = data[data.index.month == 1].mean()"
   ]
  },
  {
   "cell_type": "markdown",
   "id": "eda649eb-2030-4567-98b4-2627d720b716",
   "metadata": {},
   "source": [
    "<br>"
   ]
  },
  {
   "cell_type": "markdown",
   "id": "878548a1-f03b-47c9-a26c-26a2a04fd7f1",
   "metadata": {},
   "source": [
    "**Step 12: Downsample the record to a yearly frequency for each location.**"
   ]
  },
  {
   "cell_type": "code",
   "execution_count": 51,
   "id": "b5e35577-2c13-4d36-90b9-157e03215b72",
   "metadata": {},
   "outputs": [],
   "source": [
    "yearly_mean = data.resample('Y').mean()"
   ]
  },
  {
   "cell_type": "markdown",
   "id": "3f0e087c-b7bb-4a9c-ae39-b031d8f51fbe",
   "metadata": {},
   "source": [
    "<br>"
   ]
  },
  {
   "cell_type": "markdown",
   "id": "8ae2ee8b-97cf-4862-a0bb-d65e86c597e8",
   "metadata": {},
   "source": [
    "**Step 13: Downsample the record to a monthly frequency for each location.**"
   ]
  },
  {
   "cell_type": "code",
   "execution_count": 52,
   "id": "53337a64-7f67-482f-841a-3ca71c93043a",
   "metadata": {},
   "outputs": [],
   "source": [
    "monthly_mean = data.resample('M').mean()"
   ]
  },
  {
   "cell_type": "markdown",
   "id": "c3d2187b-2182-491b-8f58-ce73e3cb4d2a",
   "metadata": {},
   "source": [
    "<br>"
   ]
  },
  {
   "cell_type": "markdown",
   "id": "9b303730-fe12-41e5-aa05-37c1fa9ad606",
   "metadata": {},
   "source": [
    "**Step 14: Downsample the record to a weekly frequency for each location.**"
   ]
  },
  {
   "cell_type": "code",
   "execution_count": 53,
   "id": "2e71cfe3-949a-4847-908a-5e7cf37f58c7",
   "metadata": {},
   "outputs": [],
   "source": [
    "weekly_mean = data.resample('W').mean()"
   ]
  },
  {
   "cell_type": "markdown",
   "id": "a8faff60-a0cf-4cdf-9bff-c6464651a398",
   "metadata": {},
   "source": [
    "<br>"
   ]
  },
  {
   "cell_type": "markdown",
   "id": "c5c9361e-23c0-479c-9f28-c4e451e07f50",
   "metadata": {},
   "source": [
    "**Step 15: Calculate the min, max, mean, and standard deviations of the windspeeds across all locations for each week (assuming the first week starts on January 2, 1961) for the first 52 weeks.**"
   ]
  },
  {
   "cell_type": "code",
   "execution_count": 54,
   "id": "0cf4d00f-8790-4ed3-b1a3-5e843b34864a",
   "metadata": {},
   "outputs": [],
   "source": [
    "# Step 15: Calculate min, max, mean, and std of windspeeds across all locations for each week for the first 52 weeks\n",
    "weekly_stats = data.resample('W').agg(['min', 'max', 'mean', 'std']).iloc[:52]"
   ]
  },
  {
   "cell_type": "markdown",
   "id": "4c4f7a59-8ffe-424c-b751-926049b2c918",
   "metadata": {},
   "source": [
    "<br>"
   ]
  },
  {
   "cell_type": "markdown",
   "id": "c6a34409-e9d7-48e4-828f-260915f76572",
   "metadata": {},
   "source": [
    "**Displaying results**"
   ]
  },
  {
   "cell_type": "code",
   "execution_count": 55,
   "id": "bb0559fc-900f-469e-be25-241a4de971bb",
   "metadata": {},
   "outputs": [
    {
     "name": "stdout",
     "output_type": "stream",
     "text": [
      "Step 6: Missing values for each location:\n",
      "RPT    6\n",
      "VAL    3\n",
      "ROS    2\n",
      "KIL    5\n",
      "SHA    2\n",
      "BIR    0\n",
      "DUB    3\n",
      "CLA    2\n",
      "MUL    3\n",
      "CLO    1\n",
      "BEL    0\n",
      "MAL    4\n",
      "dtype: int64\n",
      "\n",
      "Step 7: Total non-missing values: 78857\n",
      "\n",
      "Step 8: Mean windspeed over all locations and times: 10.22788376428218\n",
      "\n",
      "Step 9: Summary statistics for each location:\n",
      "               RPT          VAL          ROS          KIL          SHA  \\\n",
      "count  6568.000000  6571.000000  6572.000000  6569.000000  6572.000000   \n",
      "mean     12.362987    10.644314    11.660526     6.306468    10.455834   \n",
      "std       5.618413     5.267356     5.008450     3.605811     4.936125   \n",
      "min       0.670000     0.210000     1.500000     0.000000     0.130000   \n",
      "50%      11.710000    10.170000    10.920000     5.750000     9.960000   \n",
      "max      35.800000    33.370000    33.840000    28.460000    37.540000   \n",
      "\n",
      "               BIR          DUB          CLA          MUL          CLO  \\\n",
      "count  6574.000000  6571.000000  6572.000000  6571.000000  6573.000000   \n",
      "mean      7.092254     9.797343     8.495053     8.493590     8.707332   \n",
      "std       3.968683     4.977555     4.499449     4.166872     4.503954   \n",
      "min       0.000000     0.000000     0.000000     0.000000     0.040000   \n",
      "50%       6.830000     9.210000     8.080000     8.170000     8.290000   \n",
      "max      26.160000    30.370000    31.080000    25.880000    28.210000   \n",
      "\n",
      "               BEL          MAL  \n",
      "count  6574.000000  6570.000000  \n",
      "mean     13.121007    15.599079  \n",
      "std       5.835037     6.699794  \n",
      "min       0.130000     0.670000  \n",
      "50%      12.500000    15.000000  \n",
      "max      42.380000    42.540000  \n",
      "\n",
      "Step 10: Summary statistics for each day:\n",
      "             min    max       mean       std\n",
      "Date                                        \n",
      "1961-01-01  9.29  18.50  13.018182  2.808875\n",
      "1961-01-02  6.50  17.54  11.336364  3.188994\n",
      "1961-01-03  6.17  18.50  11.641818  3.681912\n",
      "1961-01-04  1.79  11.75   6.619167  3.198126\n",
      "1961-01-05  6.17  13.33  10.630000  2.445356\n",
      "...          ...    ...        ...       ...\n",
      "1978-12-27  8.08  40.08  16.708333  7.868076\n",
      "1978-12-28  5.00  41.46  15.150000  9.687857\n",
      "1978-12-29  8.71  29.58  14.890000  5.756836\n",
      "1978-12-30  9.13  28.79  15.367500  5.540437\n",
      "1978-12-31  9.59  27.29  15.402500  5.702483\n",
      "\n",
      "[6574 rows x 4 columns]\n",
      "\n",
      "Step 11: Average windspeed in January for each location:\n",
      "RPT    14.847325\n",
      "VAL    12.914560\n",
      "ROS    13.299624\n",
      "KIL     7.199498\n",
      "SHA    11.667734\n",
      "BIR     8.054839\n",
      "DUB    11.819355\n",
      "CLA     9.512047\n",
      "MUL     9.543208\n",
      "CLO    10.053566\n",
      "BEL    14.550520\n",
      "MAL    18.028763\n",
      "dtype: float64\n",
      "\n",
      "Step 12: Yearly mean windspeed for each location:\n",
      "                  RPT        VAL        ROS       KIL        SHA       BIR  \\\n",
      "Date                                                                         \n",
      "1961-12-31  12.299583  10.351796  11.362369  6.958227  10.881763  7.729726   \n",
      "1962-12-31  12.246923  10.110438  11.732712  6.960440  10.657918  7.393068   \n",
      "1963-12-31  12.813452  10.836986  12.541151  7.330055  11.724110  8.434712   \n",
      "1964-12-31  12.363661  10.920164  12.104372  6.787787  11.454481  7.570874   \n",
      "1965-12-31  12.451370  11.075534  11.848767  6.858466  11.024795  7.478110   \n",
      "1966-12-31  13.461973  11.557205  12.020630  7.345726  11.805041  7.793671   \n",
      "1967-12-31  12.737151  10.990986  11.739397  7.143425  11.630740  7.368164   \n",
      "1968-12-31  11.835628  10.468197  11.409754  6.477678  10.760765  6.067322   \n",
      "1969-12-31  11.166356   9.723699  10.902000  5.767973   9.873918  6.189973   \n",
      "1970-12-31  12.600329  10.726932  11.730247  6.217178  10.567370  7.609452   \n",
      "1971-12-31  11.273123   9.095178  11.088329  5.241507   9.440329  6.097151   \n",
      "1972-12-31  12.463962  10.561311  12.058333  5.929699   9.430410  6.358825   \n",
      "1973-12-31  11.828466  10.680493  10.680493  5.547863   9.640877  6.548740   \n",
      "1974-12-31  13.643096  11.811781  12.336356  6.427041  11.110986  6.809781   \n",
      "1975-12-31  12.008575  10.293836  11.564712  5.269096   9.190082  5.668521   \n",
      "1976-12-31  11.737842  10.203115  10.761230  5.109426   8.846339  6.311038   \n",
      "1977-12-31  13.099616  11.144493  12.627836  6.073945  10.003836  8.586438   \n",
      "1978-12-31  12.504356  11.044274  11.380000  6.082356  10.167233  7.650658   \n",
      "\n",
      "                  DUB        CLA       MUL        CLO        BEL        MAL  \n",
      "Date                                                                         \n",
      "1961-12-31   9.733923   8.858788  8.647652   9.835577  13.502795  13.680773  \n",
      "1962-12-31  11.020712   8.793753  8.316822   9.676247  12.930685  14.323956  \n",
      "1963-12-31  11.075699  10.336548  8.903589  10.224438  13.638877  14.999014  \n",
      "1964-12-31  10.259153   9.467350  7.789016  10.207951  13.740546  14.910301  \n",
      "1965-12-31  10.618712   8.879918  7.907425   9.918082  12.964247  15.591644  \n",
      "1966-12-31  10.579808   8.835096  8.514438   9.768959  14.265836  16.307260  \n",
      "1967-12-31  10.652027   9.325616  8.645014   9.547425  14.774548  17.135945  \n",
      "1968-12-31   8.859180   8.255519  7.224945   7.832978  12.808634  15.017486  \n",
      "1969-12-31   8.564493   7.711397  7.924521   7.754384  12.621233  15.762904  \n",
      "1970-12-31   9.609890   8.334630  9.297616   8.289808  13.183644  16.456027  \n",
      "1971-12-31   8.385890   6.757315  7.915370   7.229753  12.208932  15.025233  \n",
      "1972-12-31   9.704508   7.680792  8.357295   7.515273  12.727377  15.028716  \n",
      "1973-12-31   8.482110   7.614274  8.245534   7.812411  12.169699  15.441096  \n",
      "1974-12-31  10.084603   9.896986  9.331753   8.736356  13.252959  16.947671  \n",
      "1975-12-31   8.562603   7.843836  8.797945   7.382822  12.631671  15.307863  \n",
      "1976-12-31   9.149126   7.146202  8.883716   7.883087  12.332377  15.471448  \n",
      "1977-12-31  11.523205   8.378384  9.098192   8.821616  13.459068  16.590849  \n",
      "1978-12-31   9.489342   8.800466  9.089753   8.301699  12.967397  16.771370  \n",
      "\n",
      "Step 13: Monthly mean windspeed for each location:\n",
      "                  RPT        VAL        ROS       KIL        SHA        BIR  \\\n",
      "Date                                                                          \n",
      "1961-01-31  14.841333  11.988333  13.431613  7.736774  11.072759   8.588065   \n",
      "1961-02-28  16.269286  14.975357  14.441481  9.230741  13.852143  10.937500   \n",
      "1961-03-31  10.890000  11.296452  10.752903  7.284000  10.509355   8.866774   \n",
      "1961-04-30  10.722667   9.427667   9.998000  5.830667   8.435000   6.495000   \n",
      "1961-05-31   9.860968   8.850000  10.818065  5.905333   9.490323   6.574839   \n",
      "...               ...        ...        ...       ...        ...        ...   \n",
      "1978-08-31   9.645161   8.259355   9.032258  4.502903   7.368065   5.935161   \n",
      "1978-09-30  10.913667  10.895000  10.635000  5.725000  10.372000   9.278333   \n",
      "1978-10-31   9.897742   8.670968   9.295806  4.721290   8.525161   6.774194   \n",
      "1978-11-30  16.151667  14.802667  13.508000  7.317333  11.475000   8.743000   \n",
      "1978-12-31  16.175484  13.748065  15.635161  7.094839  11.398710   9.241613   \n",
      "\n",
      "                  DUB        CLA        MUL        CLO        BEL        MAL  \n",
      "Date                                                                          \n",
      "1961-01-31  11.184839   9.245333   9.085806  10.107419  13.880968  14.703226  \n",
      "1961-02-28  11.890714  11.846071  11.821429  12.714286  18.583214  15.411786  \n",
      "1961-03-31   9.644194   9.829677  10.294138  11.251935  16.410968  15.720000  \n",
      "1961-04-30   6.925333   7.094667   7.342333   7.237000  11.147333  10.278333  \n",
      "1961-05-31   7.604000   8.177097   8.039355   8.499355  11.900323  12.011613  \n",
      "...               ...        ...        ...        ...        ...        ...  \n",
      "1978-08-31   5.650323   5.417742   7.241290   5.536774  10.466774  12.054194  \n",
      "1978-09-30  10.790333   9.583000  10.069333   8.939000  15.680333  19.391333  \n",
      "1978-10-31   8.115484   7.337742   8.297742   8.243871  13.776774  17.150000  \n",
      "1978-11-30  11.492333   9.657333  10.701333  10.676000  17.404667  20.723000  \n",
      "1978-12-31  12.077419  10.194839  10.616774  11.028710  13.859677  21.371613  \n",
      "\n",
      "[216 rows x 12 columns]\n",
      "\n",
      "Step 14: Weekly mean windspeed for each location:\n",
      "                  RPT        VAL        ROS        KIL        SHA        BIR  \\\n",
      "Date                                                                           \n",
      "1961-01-01  15.040000  14.960000  13.170000   9.290000        NaN   9.870000   \n",
      "1961-01-08  13.541429  11.486667  10.487143   6.417143   9.474286   6.435714   \n",
      "1961-01-15  12.468571   8.967143  11.958571   4.630000   7.351429   5.072857   \n",
      "1961-01-22  13.204286   9.862857  12.982857   6.328571   8.966667   7.417143   \n",
      "1961-01-29  19.880000  16.141429  18.225714  12.720000  17.432857  14.828571   \n",
      "...               ...        ...        ...        ...        ...        ...   \n",
      "1978-12-03  14.934286  11.232857  13.941429   5.565714  10.215714   8.618571   \n",
      "1978-12-10  20.740000  19.190000  17.034286   9.777143  15.287143  12.774286   \n",
      "1978-12-17  16.758571  14.692857  14.987143   6.917143  11.397143   7.272857   \n",
      "1978-12-24  11.155714   8.008571  13.172857   4.004286   7.825714   6.290000   \n",
      "1978-12-31  14.951429  11.801429  16.035714   6.507143   9.660000   8.620000   \n",
      "\n",
      "                  DUB        CLA        MUL        CLO        BEL        MAL  \n",
      "Date                                                                          \n",
      "1961-01-01  13.670000  10.250000  10.830000  12.580000  18.500000  15.040000  \n",
      "1961-01-08  11.061429   6.616667   8.434286   8.497143  12.481429  13.238571  \n",
      "1961-01-15   7.535714   6.820000   5.712857   7.571429  11.125714  11.024286  \n",
      "1961-01-22   9.257143   7.875714   7.145714   8.124286   9.821429  11.434286  \n",
      "1961-01-29  15.528571  15.160000  14.480000  15.640000  20.930000  22.530000  \n",
      "...               ...        ...        ...        ...        ...        ...  \n",
      "1978-12-03   9.642857   7.685714   9.011429   9.547143  11.835714  18.728571  \n",
      "1978-12-10  14.437143  12.488571  13.870000  14.082857  18.517143  23.061429  \n",
      "1978-12-17  10.208571   7.967143   9.168571   8.565714  11.102857  15.562857  \n",
      "1978-12-24   7.798571   8.667143   7.151429   8.072857  11.845714  18.977143  \n",
      "1978-12-31  13.708571  10.477143  10.868571  11.471429  12.947143  26.844286  \n",
      "\n",
      "[940 rows x 12 columns]\n",
      "\n",
      "Step 15: Weekly statistics (min, max, mean, std) for the first 52 weeks:\n",
      "              RPT                                VAL                    \\\n",
      "              min    max       mean       std    min    max       mean   \n",
      "Date                                                                     \n",
      "1961-01-01  15.04  15.04  15.040000       NaN  14.96  14.96  14.960000   \n",
      "1961-01-08  10.58  18.50  13.541429  2.631321   6.63  16.88  11.486667   \n",
      "1961-01-15   9.04  19.75  12.468571  3.555392   3.54  12.08   8.967143   \n",
      "1961-01-22   4.92  19.83  13.204286  5.337402   3.42  14.37   9.862857   \n",
      "1961-01-29  13.62  25.04  19.880000  4.619061   9.96  23.91  16.141429   \n",
      "1961-02-05  10.58  24.21  16.827143  5.251408   9.46  24.21  15.460000   \n",
      "1961-02-12  16.00  24.54  19.684286  3.587677  11.54  21.42  16.417143   \n",
      "1961-02-19   6.04  22.50  15.130000  5.064609  11.63  20.17  15.091429   \n",
      "1961-02-26   7.79  25.80  15.221429  7.020716   7.08  21.50  13.625714   \n",
      "1961-03-05  10.96  13.33  12.101429  0.997721   8.83  17.00  12.951429   \n",
      "1961-03-12   4.88  14.79   9.376667  3.732263   8.08  16.96  11.578571   \n",
      "1961-03-19   4.92  16.88  11.911429  3.860036   9.46  15.54  13.501429   \n",
      "1961-03-26   6.29  15.00   9.567143  3.613298   2.58  11.63   8.387143   \n",
      "1961-04-02   5.88  18.25  10.757143  5.046922   3.50  16.29   8.852857   \n",
      "1961-04-09   4.50  18.12  11.964286  4.604392   7.04  14.62  10.654286   \n",
      "1961-04-16   4.71  15.50   8.965714  3.937727   4.83  12.25   8.000000   \n",
      "1961-04-23   4.00  21.09  12.621429  5.676655   3.71  15.41  10.438571   \n",
      "1961-04-30   4.08  16.29  10.117143  4.349662   6.50  14.46   9.798571   \n",
      "1961-05-07   9.87  23.00  15.367143  5.025507  10.29  19.79  13.970000   \n",
      "1961-05-14   3.54  12.79   7.772857  3.371022   3.96  15.12   8.712857   \n",
      "1961-05-21   4.88  15.04   8.225714  3.631730   3.58  10.17   5.631667   \n",
      "1961-05-28   4.96  11.79   8.155714  2.739433   3.67  12.50   7.388571   \n",
      "1961-06-04   7.00  15.92  10.321429  3.099701   4.75   9.79   7.407143   \n",
      "1961-06-11   8.29  14.42  10.917143  2.248597   6.83  11.54   8.992857   \n",
      "1961-06-18   6.13  14.33  10.571429  3.009482   4.12  14.54   9.565714   \n",
      "1961-06-25   4.00   9.00   7.345714  1.982035   3.25   9.50   6.108571   \n",
      "1961-07-02   7.21  13.13  10.236667  2.557856   6.34  14.37   9.482857   \n",
      "1961-07-09   7.29  17.50  11.715714  3.664855   3.75  10.75   7.220000   \n",
      "1961-07-16   8.63  22.50  16.680000  5.168710   7.87  19.29  13.518571   \n",
      "1961-07-23   3.04   5.88   4.202857  1.047978   2.92   6.79   4.255714   \n",
      "1961-07-30   6.13  16.08  10.561429  4.157641   4.63  13.79   8.445714   \n",
      "1961-08-06   7.67  16.08  10.870000  2.950887   5.09  15.79   8.792857   \n",
      "1961-08-13   2.88  14.21  10.058333  4.422268   4.42  10.00   7.941429   \n",
      "1961-08-20  13.13  18.91  15.607143  2.283635   7.25  13.62  10.565714   \n",
      "1961-08-27   7.67  18.16  12.391429  3.395857   6.87  14.58  11.430000   \n",
      "1961-09-03   3.63  14.46   8.678571  4.398615   1.13  22.00   8.821429   \n",
      "1961-09-10   5.00  17.62  10.541429  5.207278   3.04  13.59   8.798571   \n",
      "1961-09-17   5.33  28.75  17.160000  7.679190   7.12  22.08  14.440000   \n",
      "1961-09-24   6.92  10.25   8.500000  1.267399   2.92  13.62   7.154286   \n",
      "1961-10-01  10.34  23.21  16.044286  4.559572   6.96  13.62  11.361667   \n",
      "1961-10-08   3.13  16.08  11.250000  5.596710   3.63  16.96   8.757143   \n",
      "1961-10-15   3.71  17.12  10.881667  4.780675   6.13  13.25   9.734286   \n",
      "1961-10-22  10.46  28.62  19.260000  7.888314   3.75  19.46  13.364286   \n",
      "1961-10-29   4.33  26.42  16.077143  7.957637   2.75  21.25  11.867143   \n",
      "1961-11-05   5.88  15.79  11.571429  3.369201   3.96  13.46   9.590000   \n",
      "1961-11-12   5.46  16.08  10.428571  3.939811   5.50  10.75   7.690000   \n",
      "1961-11-19   7.50  15.00  10.798571  2.784358   4.21  13.00   7.951429   \n",
      "1961-11-26   5.75  14.29   9.154286  3.214368   3.29  11.79   7.337143   \n",
      "1961-12-03   7.92  23.75  12.608571  5.704669   4.67  18.71  10.442857   \n",
      "1961-12-10  10.83  23.71  17.362857  4.890152   9.21  21.37  14.362857   \n",
      "1961-12-17   9.29  21.34  14.985714  4.095106   8.63  17.62  13.472857   \n",
      "1961-12-24  11.46  24.41  15.757143  4.959717   9.79  16.13  11.971429   \n",
      "\n",
      "                        ROS         ...        CLO              BEL         \\\n",
      "                 std    min    max  ...       mean       std    min    max   \n",
      "Date                                ...                                      \n",
      "1961-01-01       NaN  13.17  13.17  ...  12.580000       NaN  18.50  18.50   \n",
      "1961-01-08  3.949525   7.62  12.33  ...   8.497143  1.704941   5.46  17.54   \n",
      "1961-01-15  3.148945   7.08  19.50  ...   7.571429  4.084293   5.25  20.71   \n",
      "1961-01-22  3.837785   7.29  20.79  ...   8.124286  4.783952   6.50  15.92   \n",
      "1961-01-29  5.170224  12.67  25.84  ...  15.640000  3.713368  14.04  27.71   \n",
      "1961-02-05  5.187395   9.04  19.70  ...   9.460000  2.839501   9.17  19.33   \n",
      "1961-02-12  3.608373  13.67  21.34  ...  14.440000  1.746749  15.21  26.38   \n",
      "1961-02-19  3.575012   6.13  19.41  ...  13.542857  2.531361  14.09  29.63   \n",
      "1961-02-26  5.147348   6.08  22.42  ...  12.730000  4.920064   9.59  23.21   \n",
      "1961-03-05  2.851955   8.17  13.67  ...  12.370000  1.593685  11.58  23.45   \n",
      "1961-03-12  3.230167   7.54  16.38  ...  10.458571  3.655113  10.21  22.71   \n",
      "1961-03-19  2.352867   5.25  13.96  ...  11.627143  3.099472  11.29  22.79   \n",
      "1961-03-26  3.657265   4.79  15.63  ...  11.481429  2.538224   8.25  21.34   \n",
      "1961-04-02  4.687315   5.09  14.96  ...   9.631429  3.191115   7.21  18.63   \n",
      "1961-04-09  2.845399   9.29  18.29  ...   7.238571  2.336182   7.62  17.16   \n",
      "1961-04-16  2.607118   3.92  15.79  ...   6.178571  2.161137   5.75  16.17   \n",
      "1961-04-23  4.631736   3.33  17.00  ...   9.551429  3.347972   6.75  19.21   \n",
      "1961-04-30  2.871425   2.54  14.96  ...   6.124286  2.840568   5.13  13.04   \n",
      "1961-05-07  3.750835   8.42  21.21  ...  11.585714  3.620819   4.79  28.08   \n",
      "1961-05-14  3.782947   4.63  12.33  ...   7.822857  5.460237   6.54  18.66   \n",
      "1961-05-21  2.468906   5.91  15.96  ...   7.114286  2.216889   6.63  12.00   \n",
      "1961-05-28  3.378537   3.58  20.96  ...   7.535714  2.575661   6.13  14.33   \n",
      "1961-06-04  1.868125   6.83  15.96  ...   9.035714  2.096989   8.71  17.00   \n",
      "1961-06-11  1.524836   6.04  11.58  ...   8.397143  2.158323   5.37  16.17   \n",
      "1961-06-18  3.509444   6.50  15.50  ...   9.594286  3.792400   7.29  25.25   \n",
      "1961-06-25  2.212460   5.13  10.37  ...  11.257143  2.286218  11.00  19.08   \n",
      "1961-07-02  2.902411   7.62  10.79  ...  10.268571  1.564144   6.96  21.87   \n",
      "1961-07-09  2.686658   7.41  14.92  ...  10.547143  3.657179   7.08  20.41   \n",
      "1961-07-16  3.849630   8.00  14.29  ...  10.157143  3.271899   5.04  20.25   \n",
      "1961-07-23  1.400010   4.08  12.67  ...   6.041429  1.439785   4.21  10.13   \n",
      "1961-07-30  3.203206   6.42  15.67  ...   9.470000  4.350268   7.87  22.17   \n",
      "1961-08-06  3.985226   5.54  15.59  ...   8.951429  2.903018   6.17  18.54   \n",
      "1961-08-13  2.053326   6.00  11.63  ...   7.235000  2.073777   5.88  14.29   \n",
      "1961-08-20  2.523416   9.17  14.04  ...  12.244286  2.730237   9.59  21.92   \n",
      "1961-08-27  3.174702   9.50  17.83  ...  12.507143  3.855302   5.75  23.38   \n",
      "1961-09-03  7.474025   2.42  12.75  ...   8.924286  3.993736   4.79  24.71   \n",
      "1961-09-10  4.003996   3.63  14.88  ...   7.565714  3.649278   5.41  15.83   \n",
      "1961-09-17  5.360585   7.29  26.50  ...  14.268571  5.128338  13.92  23.91   \n",
      "1961-09-24  3.445262   5.33  12.17  ...   6.798571  2.354092   4.54  20.96   \n",
      "1961-10-01  2.812482   7.87  17.58  ...  11.840000  3.908397   7.79  21.37   \n",
      "1961-10-08  5.060803   4.96  17.83  ...   7.662857  4.296870   4.79  17.83   \n",
      "1961-10-15  2.707483   4.21  20.96  ...   9.494286  3.569308   8.54  20.46   \n",
      "1961-10-22  5.998199   9.92  22.63  ...  16.461429  5.890511  10.88  24.71   \n",
      "1961-10-29  6.879973   4.79  23.09  ...  12.952857  6.277629   8.50  27.29   \n",
      "1961-11-05  3.900278   6.54  14.33  ...  11.864286  2.784450  10.29  20.17   \n",
      "1961-11-12  2.141191   3.83  20.41  ...   6.415714  2.843518   6.13  12.58   \n",
      "1961-11-19  3.208548   6.46  32.71  ...   6.031429  4.402588   0.71   9.59   \n",
      "1961-11-26  3.277904   4.42  14.46  ...   9.582857  2.747452   6.50  20.46   \n",
      "1961-12-03  5.107089   8.00  19.92  ...   7.911429  3.680477   5.50  19.04   \n",
      "1961-12-10  4.115506   9.71  20.54  ...  12.022857  4.156207  10.71  21.79   \n",
      "1961-12-17  3.587886   9.04  19.00  ...  11.058571  4.633398   5.50  22.83   \n",
      "1961-12-24  2.220866   8.08  22.13  ...   7.697143  4.637096   5.29  17.67   \n",
      "\n",
      "                                   MAL                              \n",
      "                 mean       std    min    max       mean       std  \n",
      "Date                                                                \n",
      "1961-01-01  18.500000       NaN  15.04  15.04  15.040000       NaN  \n",
      "1961-01-08  12.481429  4.349139  10.88  16.46  13.238571  1.773062  \n",
      "1961-01-15  11.125714  5.552215   5.17  16.92  11.024286  4.692355  \n",
      "1961-01-22   9.821429  3.626584   6.79  17.96  11.434286  4.237239  \n",
      "1961-01-29  20.930000  5.210726  17.50  27.63  22.530000  3.874721  \n",
      "1961-02-05  14.012857  4.210858   7.17  19.25  11.935714  4.336104  \n",
      "1961-02-12  21.832857  4.063753  17.04  21.84  19.155714  1.828705  \n",
      "1961-02-19  21.167143  5.910938  10.96  22.58  16.584286  4.685377  \n",
      "1961-02-26  16.304286  5.091162   6.67  23.87  14.322857  6.182283  \n",
      "1961-03-05  17.842857  4.332331   8.83  17.54  13.951667  3.021387  \n",
      "1961-03-12  16.701429  4.358759   5.54  22.54  14.420000  5.769890  \n",
      "1961-03-19  19.350000  3.779727  11.34  22.95  16.227143  4.331958  \n",
      "1961-03-26  14.037143  4.318069  13.13  22.50  18.134286  3.701846  \n",
      "1961-04-02  13.471429  4.179854   7.17  19.58  13.900000  3.924555  \n",
      "1961-04-09  11.712857  3.147781   7.21  15.34  11.371429  2.598271  \n",
      "1961-04-16   9.482857  3.641464   5.66  12.87   8.690000  2.747842  \n",
      "1961-04-23  13.620000  4.735096   4.96  20.46  12.470000  5.908542  \n",
      "1961-04-30   9.720000  2.948237   2.67  17.50   8.637143  5.108365  \n",
      "1961-05-07  17.548571  8.003490   3.83  26.58  14.571429  7.728504  \n",
      "1961-05-14  10.421429  3.968272   3.33  26.30  10.382857  7.858246  \n",
      "1961-05-21   9.624286  1.975853   5.91  14.96  10.612857  3.310819  \n",
      "1961-05-28  10.518571  3.024524   8.00  17.04  11.697143  3.811818  \n",
      "1961-06-04  12.298571  2.611139  10.63  17.96  13.597143  2.593586  \n",
      "1961-06-11  10.148571  3.993062   5.96  19.83  12.250000  4.925055  \n",
      "1961-06-18  15.351429  6.477887   6.13  24.71  15.025714  6.242673  \n",
      "1961-06-25  14.370000  2.498386  13.75  21.50  17.410000  3.063011  \n",
      "1961-07-02  14.535714  6.303747   8.50  16.79  12.133333  3.652313  \n",
      "1961-07-09  12.220000  4.537988  12.08  21.29  15.987143  3.665705  \n",
      "1961-07-16  13.520000  4.971060   5.96  21.96  12.524286  4.974273  \n",
      "1961-07-23   7.524286  2.050218   5.41  10.92   8.415714  2.133994  \n",
      "1961-07-30  12.841429  5.580903   6.13  25.37  13.761429  6.664574  \n",
      "1961-08-06  11.595714  4.901377   9.08  20.25  13.760000  4.448251  \n",
      "1961-08-13  10.934286  2.931302   5.88  15.16  10.125714  3.356585  \n",
      "1961-08-20  14.922857  4.086725  13.04  24.30  16.626667  3.934238  \n",
      "1961-08-27  16.251429  6.711322   8.29  22.29  16.485714  4.947608  \n",
      "1961-09-03  13.664286  7.678051   5.41  22.54  11.022857  6.308087  \n",
      "1961-09-10  10.700000  4.220584   3.37  20.25  11.034286  6.049619  \n",
      "1961-09-17  19.878571  4.464252  14.67  33.09  18.984286  6.332885  \n",
      "1961-09-24  11.018571  5.235868   5.25  14.62   9.814286  3.113507  \n",
      "1961-10-01  16.208571  5.091268   4.04  17.16  13.338571  4.696504  \n",
      "1961-10-08   8.810000  4.800403   4.83  19.62  11.410000  5.462002  \n",
      "1961-10-15  14.451429  4.113200  10.75  21.04  15.260000  4.098130  \n",
      "1961-10-22  17.477143  5.645871  13.46  33.45  23.641429  7.468377  \n",
      "1961-10-29  15.592857  7.056150   9.83  30.88  18.404286  8.340881  \n",
      "1961-11-05  16.322857  4.038493  13.37  23.58  19.195714  3.870800  \n",
      "1961-11-12   9.208571  2.532196   5.71  15.54  10.858571  3.690752  \n",
      "1961-11-19   5.875714  3.643285   2.00  13.25   5.737143  3.787654  \n",
      "1961-11-26  11.772857  5.407223   4.25  22.58  12.732857  6.475867  \n",
      "1961-12-03  11.464286  5.552648   5.88  21.29  14.725714  5.233192  \n",
      "1961-12-10  15.975714  4.667933   7.58  29.33  16.241429  7.345893  \n",
      "1961-12-17  15.112857  6.531043   6.50  21.12  14.644286  5.665006  \n",
      "1961-12-24   9.958571  5.065308   2.62  16.62   8.164286  5.048035  \n",
      "\n",
      "[52 rows x 48 columns]\n"
     ]
    }
   ],
   "source": [
    "print(\"Step 6: Missing values for each location:\")\n",
    "print(missing_values)\n",
    "print(\"\\nStep 7: Total non-missing values:\", total_non_missing)\n",
    "print(\"\\nStep 8: Mean windspeed over all locations and times:\", mean_windspeed)\n",
    "print(\"\\nStep 9: Summary statistics for each location:\")\n",
    "print(loc_stats)\n",
    "print(\"\\nStep 10: Summary statistics for each day:\")\n",
    "print(day_stats)\n",
    "print(\"\\nStep 11: Average windspeed in January for each location:\")\n",
    "print(january_windspeeds)\n",
    "print(\"\\nStep 12: Yearly mean windspeed for each location:\")\n",
    "print(yearly_mean)\n",
    "print(\"\\nStep 13: Monthly mean windspeed for each location:\")\n",
    "print(monthly_mean)\n",
    "print(\"\\nStep 14: Weekly mean windspeed for each location:\")\n",
    "print(weekly_mean)\n",
    "print(\"\\nStep 15: Weekly statistics (min, max, mean, std) for the first 52 weeks:\")\n",
    "print(weekly_stats)"
   ]
  },
  {
   "cell_type": "markdown",
   "id": "95277557-77a7-40b7-89ab-28bbc3c43e8f",
   "metadata": {},
   "source": [
    "<br>"
   ]
  },
  {
   "cell_type": "markdown",
   "id": "61be0407-4cd0-41c4-a791-0254e67f6cd8",
   "metadata": {},
   "source": [
    "# (Question.5)"
   ]
  },
  {
   "cell_type": "markdown",
   "id": "73afae9a-e7a7-413c-bc25-4b8e812e5956",
   "metadata": {},
   "source": [
    "**Step 1: Import the necessary libraries.**"
   ]
  },
  {
   "cell_type": "code",
   "execution_count": 56,
   "id": "ffc063ea-b1f0-4644-941f-f3bb9bc27a33",
   "metadata": {},
   "outputs": [],
   "source": [
    "import pandas as pd"
   ]
  },
  {
   "cell_type": "markdown",
   "id": "1c77966f-e4fd-4b02-b433-02f957bdf7aa",
   "metadata": {},
   "source": [
    "**Step 2: Import the dataset from the provided address.**"
   ]
  },
  {
   "cell_type": "code",
   "execution_count": 57,
   "id": "ddf620ce-a9c5-4e5b-a411-5d446824b014",
   "metadata": {},
   "outputs": [
    {
     "name": "stdout",
     "output_type": "stream",
     "text": [
      "Data has been successfully written to user_data2.xlsx\n"
     ]
    }
   ],
   "source": [
    "# Read data from URL into a DataFrame\n",
    "url = \"https://raw.githubusercontent.com/justmarkham/DAT8/master/data/chipotle.tsv\"\n",
    "data = pd.read_csv(url, sep='|')\n",
    "\n",
    "# Write DataFrame to Excel file\n",
    "excel_file = \"user_data2.xlsx\"\n",
    "data.to_excel(excel_file, index=False)\n",
    "\n",
    "print(\"Data has been successfully written to\", excel_file)"
   ]
  },
  {
   "cell_type": "markdown",
   "id": "644b00ba-229f-4f20-8886-8bdad8a4e5d7",
   "metadata": {},
   "source": [
    "**Step 2(b): Copy the dataset to local system.**"
   ]
  },
  {
   "cell_type": "code",
   "execution_count": 58,
   "id": "fd83ed0a-b2f2-44cb-8c90-913f7bece0c1",
   "metadata": {},
   "outputs": [
    {
     "name": "stdout",
     "output_type": "stream",
     "text": [
      "File has been successfully copied to C:\\Users\\profi\\Desktop\n"
     ]
    }
   ],
   "source": [
    "import shutil\n",
    "\n",
    "# Source file path\n",
    "source_file = \"user_data2.xlsx\"\n",
    "\n",
    "# Destination directory where you want to save the file\n",
    "destination_directory = \"C:\\\\Users\\\\profi\\\\Desktop\"\n",
    "\n",
    "# Copy the file to the destination directory\n",
    "shutil.copy(source_file, destination_directory)\n",
    "\n",
    "print(\"File has been successfully copied to\", destination_directory)"
   ]
  },
  {
   "cell_type": "markdown",
   "id": "b9405f4c-084f-4016-9c57-906a8b1be8ba",
   "metadata": {},
   "source": [
    "<br>"
   ]
  },
  {
   "cell_type": "markdown",
   "id": "c6e95fac-64c8-4107-a65d-01f1227a9673",
   "metadata": {},
   "source": [
    "**Step 3: Import the dataset and assign it to a variable called chipo.**<br>\r\n",
    "This step is simply assigning the dataset to a variable called chipo, as shown in the previous step."
   ]
  },
  {
   "cell_type": "code",
   "execution_count": 11,
   "id": "5d974e4c-a653-4f89-9cbf-e20197579139",
   "metadata": {},
   "outputs": [],
   "source": [
    "# Step 3: Import the dataset and assign it to a variable called 'chipo'.\n",
    "import pandas as pd\n",
    "\n",
    "# URL of the dataset\n",
    "url = \"https://raw.githubusercontent.com/justmarkham/DAT8/master/data/chipotle.tsv\"\n",
    "\n",
    "# Read the dataset, specifying tab as the delimiter\n",
    "chipo = pd.read_csv(url, delimiter='\\t')\n"
   ]
  },
  {
   "cell_type": "markdown",
   "id": "087113b7-e1c2-4c5e-990b-4fdb2d73f59f",
   "metadata": {},
   "source": [
    "<br>"
   ]
  },
  {
   "cell_type": "markdown",
   "id": "575121e7-9ae5-4429-90f6-60cf8baffe0e",
   "metadata": {},
   "source": [
    "**Step 4. See the first 10 entries.**"
   ]
  },
  {
   "cell_type": "code",
   "execution_count": 12,
   "id": "85505221-24bd-4fca-bbac-a0eae7db7358",
   "metadata": {},
   "outputs": [
    {
     "name": "stdout",
     "output_type": "stream",
     "text": [
      "Step 4: First 10 entries:\n",
      "   order_id  quantity                              item_name  \\\n",
      "0         1         1           Chips and Fresh Tomato Salsa   \n",
      "1         1         1                                   Izze   \n",
      "2         1         1                       Nantucket Nectar   \n",
      "3         1         1  Chips and Tomatillo-Green Chili Salsa   \n",
      "4         2         2                           Chicken Bowl   \n",
      "5         3         1                           Chicken Bowl   \n",
      "6         3         1                          Side of Chips   \n",
      "7         4         1                          Steak Burrito   \n",
      "8         4         1                       Steak Soft Tacos   \n",
      "9         5         1                          Steak Burrito   \n",
      "\n",
      "                                  choice_description item_price  \n",
      "0                                                NaN     $2.39   \n",
      "1                                       [Clementine]     $3.39   \n",
      "2                                            [Apple]     $3.39   \n",
      "3                                                NaN     $2.39   \n",
      "4  [Tomatillo-Red Chili Salsa (Hot), [Black Beans...    $16.98   \n",
      "5  [Fresh Tomato Salsa (Mild), [Rice, Cheese, Sou...    $10.98   \n",
      "6                                                NaN     $1.69   \n",
      "7  [Tomatillo Red Chili Salsa, [Fajita Vegetables...    $11.75   \n",
      "8  [Tomatillo Green Chili Salsa, [Pinto Beans, Ch...     $9.25   \n",
      "9  [Fresh Tomato Salsa, [Rice, Black Beans, Pinto...     $9.25   \n"
     ]
    }
   ],
   "source": [
    "# Step 4: See the first 10 entries\n",
    "print(\"Step 4: First 10 entries:\")\n",
    "print(chipo.head(10))"
   ]
  },
  {
   "cell_type": "markdown",
   "id": "f7ce4b1e-17bf-44dc-bd52-41c5a6335ec1",
   "metadata": {},
   "source": [
    "<br>"
   ]
  },
  {
   "cell_type": "markdown",
   "id": "d6cf982e-a22d-40c2-863f-4f3aaaa1b4b0",
   "metadata": {},
   "source": [
    "**Step 5. What is the number of observations in the dataset?**"
   ]
  },
  {
   "cell_type": "code",
   "execution_count": 16,
   "id": "dc0b6d40-1098-4fa3-bbcf-3ee5cb749a90",
   "metadata": {},
   "outputs": [
    {
     "name": "stdout",
     "output_type": "stream",
     "text": [
      "\n",
      "Step 5: Number of observations in the dataset: 4622\n"
     ]
    }
   ],
   "source": [
    "# Step 5: What is the number of observations in the dataset?\n",
    "num_observations = chipo.shape[0]\n",
    "print(\"\\nStep 5: Number of observations in the dataset:\", num_observations)"
   ]
  },
  {
   "cell_type": "markdown",
   "id": "41936035-2a2d-488e-8ba7-a7804376b13c",
   "metadata": {},
   "source": [
    "<br>"
   ]
  },
  {
   "cell_type": "markdown",
   "id": "2e2fbc7e-ca7f-4bac-b7ad-a81b3ad00ffd",
   "metadata": {},
   "source": [
    "**Step 6: What is the number of columns in the dataset?**"
   ]
  },
  {
   "cell_type": "code",
   "execution_count": 18,
   "id": "2034950d-2b7f-44f8-8ebd-9dd3bcb6fcaf",
   "metadata": {},
   "outputs": [
    {
     "name": "stdout",
     "output_type": "stream",
     "text": [
      "\n",
      "Step 6: Number of columns in the dataset: 5\n"
     ]
    }
   ],
   "source": [
    "# Step 6: What is the number of columns in the dataset?\n",
    "num_columns = chipo.shape[1]\n",
    "print(\"\\nStep 6: Number of columns in the dataset:\", num_columns)"
   ]
  },
  {
   "cell_type": "markdown",
   "id": "3bb38cb7-4a92-4d1f-8048-59453622d221",
   "metadata": {},
   "source": [
    "<br>"
   ]
  },
  {
   "cell_type": "markdown",
   "id": "c04219ef-7cc7-420b-a690-6e3f52c25757",
   "metadata": {},
   "source": [
    "**Step 7: Print the name of all the columns.**"
   ]
  },
  {
   "cell_type": "code",
   "execution_count": 19,
   "id": "29dfd598-00ed-48f5-8a21-77ba9a2a1ab6",
   "metadata": {},
   "outputs": [
    {
     "name": "stdout",
     "output_type": "stream",
     "text": [
      "\n",
      "Step 7: Name of all columns:\n",
      "Index(['order_id', 'quantity', 'item_name', 'choice_description',\n",
      "       'item_price'],\n",
      "      dtype='object')\n"
     ]
    }
   ],
   "source": [
    "# Step 7: Print the name of all the columns\n",
    "print(\"\\nStep 7: Name of all columns:\")\n",
    "print(chipo.columns)"
   ]
  },
  {
   "cell_type": "markdown",
   "id": "4a3f57b8-cfb6-4cf1-a3af-270df472c4d7",
   "metadata": {},
   "source": [
    "<br>"
   ]
  },
  {
   "cell_type": "markdown",
   "id": "fa81f783-70b1-4b51-9b30-fcfe59c27dfb",
   "metadata": {},
   "source": [
    "**Step 8: How is the dataset indexed?**"
   ]
  },
  {
   "cell_type": "code",
   "execution_count": 23,
   "id": "e3036164-ae9e-47e7-ad15-b24467778929",
   "metadata": {},
   "outputs": [
    {
     "name": "stdout",
     "output_type": "stream",
     "text": [
      "RangeIndex(start=0, stop=4622, step=1)\n",
      "\n",
      "Step 8: Type of index: <class 'pandas.core.indexes.range.RangeIndex'>\n"
     ]
    }
   ],
   "source": [
    "# Step 8: How is the dataset indexed?\n",
    "index_type = type(chipo.index)\n",
    "print(chipo.index)\n",
    "print(\"\\nStep 8: Type of index:\", index_type)"
   ]
  },
  {
   "cell_type": "markdown",
   "id": "cc7b1db6-2eef-4b59-9631-92693e8dc637",
   "metadata": {},
   "source": [
    "<br>"
   ]
  },
  {
   "cell_type": "markdown",
   "id": "7846f5e4-062a-4fee-87c8-8c96b3db9c06",
   "metadata": {},
   "source": [
    "**Step 9: Which was the most-ordered item?**"
   ]
  },
  {
   "cell_type": "code",
   "execution_count": 25,
   "id": "dcf1fa28-cc20-41bf-9826-a85f733b7779",
   "metadata": {},
   "outputs": [
    {
     "name": "stdout",
     "output_type": "stream",
     "text": [
      "\n",
      "Step 9: Most ordered item: Chicken Bowl\n"
     ]
    }
   ],
   "source": [
    "# Step 9: Which was the most-ordered item?\n",
    "most_ordered_item = chipo['item_name'].value_counts().idxmax()\n",
    "print(\"\\nStep 9: Most ordered item:\", most_ordered_item)"
   ]
  },
  {
   "cell_type": "markdown",
   "id": "a8d43c79-628f-41b0-bd61-266e0e4772f2",
   "metadata": {},
   "source": [
    "<br>"
   ]
  },
  {
   "cell_type": "markdown",
   "id": "3918490c-7493-4be0-8d5f-8386895446b4",
   "metadata": {},
   "source": [
    "**Step 10: For the most-ordered item, how many items were ordered?**"
   ]
  },
  {
   "cell_type": "code",
   "execution_count": 26,
   "id": "bded357d-fa88-4e7b-bccd-e608ce5fb9f1",
   "metadata": {},
   "outputs": [
    {
     "name": "stdout",
     "output_type": "stream",
     "text": [
      "\n",
      "Step 10: Number of orders for the most ordered item: 726\n"
     ]
    }
   ],
   "source": [
    "# Step 10: For the most-ordered item, how many items were ordered?\n",
    "most_ordered_item_count = chipo['item_name'].value_counts().max()\n",
    "print(\"\\nStep 10: Number of orders for the most ordered item:\", most_ordered_item_count)"
   ]
  },
  {
   "cell_type": "markdown",
   "id": "2b2531b7-862b-4b99-8687-7f681ac5bf7b",
   "metadata": {},
   "source": [
    "<br>"
   ]
  },
  {
   "cell_type": "markdown",
   "id": "ef4b16c4-613e-4fa3-b786-01c967204b89",
   "metadata": {},
   "source": [
    "**Step 11: What was the most ordered item in the choice_description column?**"
   ]
  },
  {
   "cell_type": "code",
   "execution_count": 28,
   "id": "ed437089-1bd8-4b31-8b51-b27adfe789b1",
   "metadata": {},
   "outputs": [
    {
     "name": "stdout",
     "output_type": "stream",
     "text": [
      "\n",
      "Step 11: Most ordered item in the choice_description column: [Diet Coke]\n"
     ]
    }
   ],
   "source": [
    "# Step 11: What was the most ordered item in the choice_description column?\n",
    "most_ordered_choice = chipo['choice_description'].value_counts().idxmax()\n",
    "print(\"\\nStep 11: Most ordered item in the choice_description column:\", most_ordered_choice)"
   ]
  },
  {
   "cell_type": "markdown",
   "id": "76494054-0d6f-4a00-bd04-066760d6a695",
   "metadata": {},
   "source": [
    "<br>"
   ]
  },
  {
   "cell_type": "markdown",
   "id": "c6a6fc05-0861-4aa8-b167-ddb42a4a1788",
   "metadata": {},
   "source": [
    "**Step 12: How many items were ordered in total?**"
   ]
  },
  {
   "cell_type": "code",
   "execution_count": 29,
   "id": "4527fe92-8a6f-49d0-a0a4-86ea947eeb84",
   "metadata": {},
   "outputs": [
    {
     "name": "stdout",
     "output_type": "stream",
     "text": [
      "\n",
      "Step 12: Total items ordered: 4972\n"
     ]
    }
   ],
   "source": [
    "# Step 12: How many items were ordered in total?\n",
    "total_items_ordered = chipo['quantity'].sum()\n",
    "print(\"\\nStep 12: Total items ordered:\", total_items_ordered)"
   ]
  },
  {
   "cell_type": "markdown",
   "id": "2bf1b3f9-28f3-4431-90fa-f06cf65594c7",
   "metadata": {},
   "source": [
    "<br>"
   ]
  },
  {
   "cell_type": "markdown",
   "id": "929491a1-a41a-4974-b125-e76ad6717810",
   "metadata": {},
   "source": [
    "**Step 13: Turn the item price into a float.**"
   ]
  },
  {
   "cell_type": "code",
   "execution_count": 34,
   "id": "06df3be2-d8fd-4e5c-be73-c4fa50ba7668",
   "metadata": {},
   "outputs": [
    {
     "name": "stdout",
     "output_type": "stream",
     "text": [
      "\n",
      "Step 13: Item price type after conversion: float64\n"
     ]
    }
   ],
   "source": [
    "# Step 13: Turn the item price into a float\n",
    "chipo['item_price'] = chipo['item_price'].apply(lambda x: float(x.replace('$', '')) if isinstance(x, str) else x)\n",
    "print(\"\\nStep 13: Item price type after conversion:\", chipo['item_price'].dtype)"
   ]
  },
  {
   "cell_type": "markdown",
   "id": "3ddeb762-2605-4001-b4b0-a23fad67e391",
   "metadata": {},
   "source": [
    "<br>"
   ]
  },
  {
   "cell_type": "markdown",
   "id": "c393176d-84d9-4881-9aea-a41bb25bae1a",
   "metadata": {},
   "source": [
    "**Step 14: How much was the revenue for the period in the dataset?**"
   ]
  },
  {
   "cell_type": "code",
   "execution_count": 35,
   "id": "3f5f61e9-bb28-4cf8-9b63-7ae38a570fb7",
   "metadata": {},
   "outputs": [
    {
     "name": "stdout",
     "output_type": "stream",
     "text": [
      "\n",
      "Step 14: Revenue for the period in the dataset: 39237.02\n"
     ]
    }
   ],
   "source": [
    "# Step 14: How much was the revenue for the period in the dataset?\n",
    "revenue = (chipo['quantity'] * chipo['item_price']).sum()\n",
    "print(\"\\nStep 14: Revenue for the period in the dataset:\", revenue)"
   ]
  },
  {
   "cell_type": "markdown",
   "id": "3cc44c33-f2ac-428f-926a-9f640c0185e2",
   "metadata": {},
   "source": [
    "<br>"
   ]
  },
  {
   "cell_type": "markdown",
   "id": "e4319e81-4121-4416-91d4-14fdd69be161",
   "metadata": {},
   "source": [
    "**Step 15: How many orders were made in the period?**"
   ]
  },
  {
   "cell_type": "code",
   "execution_count": 36,
   "id": "9a4dd202-3d2f-4b60-864a-7dfbbe449314",
   "metadata": {},
   "outputs": [
    {
     "name": "stdout",
     "output_type": "stream",
     "text": [
      "\n",
      "Step 15: Number of orders made in the period: 1834\n"
     ]
    }
   ],
   "source": [
    "# Step 15: How many orders were made in the period?\n",
    "num_orders = chipo['order_id'].nunique()\n",
    "print(\"\\nStep 15: Number of orders made in the period:\", num_orders)"
   ]
  },
  {
   "cell_type": "markdown",
   "id": "88a37b95-55c4-416c-a1e5-a68caf74399d",
   "metadata": {},
   "source": [
    "<br>"
   ]
  },
  {
   "cell_type": "markdown",
   "id": "ab76cc62-33a4-44cc-b6c9-5ddbfb2c6ac7",
   "metadata": {},
   "source": [
    "**Step 16: What is the average revenue amount per order?**"
   ]
  },
  {
   "cell_type": "code",
   "execution_count": 37,
   "id": "3ae4e824-3773-46bd-b7ef-0b3e35771c63",
   "metadata": {},
   "outputs": [
    {
     "name": "stdout",
     "output_type": "stream",
     "text": [
      "\n",
      "Step 16: Average revenue amount per order: 21.39423118865867\n"
     ]
    }
   ],
   "source": [
    "# Step 16: What is the average revenue amount per order?\n",
    "average_revenue_per_order = revenue / num_orders\n",
    "print(\"\\nStep 16: Average revenue amount per order:\", average_revenue_per_order)"
   ]
  },
  {
   "cell_type": "markdown",
   "id": "27aae890-27c8-4db4-a90f-069b23c298b9",
   "metadata": {},
   "source": [
    "<br>"
   ]
  },
  {
   "cell_type": "markdown",
   "id": "f3ea4f98-cd87-486b-8249-dcecd42428cc",
   "metadata": {},
   "source": [
    "**Step 17: How many different items are sold?**"
   ]
  },
  {
   "cell_type": "code",
   "execution_count": 38,
   "id": "e646e1e2-230e-4ac1-8029-2d8c63646889",
   "metadata": {},
   "outputs": [
    {
     "name": "stdout",
     "output_type": "stream",
     "text": [
      "\n",
      "Step 17: Number of different items sold: 50\n"
     ]
    }
   ],
   "source": [
    "# Step 17: How many different items are sold?\n",
    "num_unique_items_sold = chipo['item_name'].nunique()\n",
    "print(\"\\nStep 17: Number of different items sold:\", num_unique_items_sold)"
   ]
  },
  {
   "cell_type": "markdown",
   "id": "024206c7-2732-45d5-85b2-62a579398d1c",
   "metadata": {},
   "source": [
    "<br>"
   ]
  },
  {
   "cell_type": "markdown",
   "id": "2ef7d143-aec6-4fc0-bf21-4058009a9fc3",
   "metadata": {},
   "source": [
    "# (Q.6)-> \"LINE PLOT\""
   ]
  },
  {
   "cell_type": "markdown",
   "id": "c954573e-af52-41a5-a954-3a4703ff7dd7",
   "metadata": {},
   "source": [
    "**Import the necessary libraries and begin working on the dataset**<br>\n",
    "To create a line plot showing the number of marriages and divorces per capita in the U.S. between 1867 and 2014, we can follow these steps using Python with Matplotlib:"
   ]
  },
  {
   "cell_type": "code",
   "execution_count": 43,
   "id": "5880526a-e303-4ad5-a48f-7ff017c3a8c8",
   "metadata": {},
   "outputs": [
    {
     "data": {
      "image/png": "[encoded data removed]",
      "text/plain": [
       "<Figure size 1000x600 with 1 Axes>"
      ]
     },
     "metadata": {},
     "output_type": "display_data"
    }
   ],
   "source": [
    "# Import the necessary libraries\n",
    "import pandas as pd\n",
    "import matplotlib.pyplot as plt\n",
    "\n",
    "# Step 1: Import the data\n",
    "data = pd.read_csv(\"C:\\\\Users\\\\profi\\\\Desktop\\\\us-marriages-divorces-1867-2014.csv\")\n",
    "\n",
    "# Step 2: Filter the data for the desired years (1867-2014)\n",
    "filtered_data = data[(data['Year'] >= 1867) & (data['Year'] <= 2014)]\n",
    "\n",
    "# Step 3: Plot the data\n",
    "plt.figure(figsize=(10, 6))\n",
    "\n",
    "# Plot marriages per capita\n",
    "plt.plot(filtered_data['Year'], filtered_data['Marriages_per_1000'], label='Marriages per capita')\n",
    "\n",
    "# Plot divorces per capita\n",
    "plt.plot(filtered_data['Year'], filtered_data['Divorces_per_1000'], label='Divorces per capita')\n",
    "\n",
    "# Add labels and title\n",
    "plt.xlabel('Year')\n",
    "plt.ylabel('Number per 1000 People')\n",
    "plt.title('Marriages and Divorces Per Capita in the U.S. (1867-2014)')\n",
    "\n",
    "# Add legend\n",
    "plt.legend()\n",
    "\n",
    "# Show the plot\n",
    "plt.grid(True)\n",
    "plt.show()\n"
   ]
  },
  {
   "cell_type": "markdown",
   "id": "cb6b5f1b-bed8-4191-bd64-e633ae94fe2c",
   "metadata": {},
   "source": [
    "<br>"
   ]
  },
  {
   "cell_type": "markdown",
   "id": "63caad82-4e6d-43e6-ba83-5aaa74066227",
   "metadata": {},
   "source": [
    "<br>"
   ]
  },
  {
   "cell_type": "markdown",
   "id": "097e5295-0716-461f-bb9b-97d4cb3e6534",
   "metadata": {},
   "source": [
    "# (Q.7) -> \"Vertical Bar-Chart\""
   ]
  },
  {
   "cell_type": "markdown",
   "id": "99fda379-8c3a-4865-95d6-76c08fed3cfe",
   "metadata": {},
   "source": [
    "<br>\n",
    "\n",
    "**To create a vertical bar chart comparing the number of marriages and divorces per capita in the U.S. between 1900, 1950, and 2000, we can follow these steps using Python with Matplotlib:**"
   ]
  },
  {
   "cell_type": "code",
   "execution_count": 44,
   "id": "01cfd968-834f-48b4-94ea-d6fa5450090d",
   "metadata": {},
   "outputs": [
    {
     "data": {
      "image/png": "[encoded data removed]",
      "text/plain": [
       "<Figure size 1000x600 with 1 Axes>"
      ]
     },
     "metadata": {},
     "output_type": "display_data"
    }
   ],
   "source": [
    "import pandas as pd\n",
    "import matplotlib.pyplot as plt\n",
    "\n",
    "# Step 1: Import the data\n",
    "data = pd.read_csv(\"C:\\\\Users\\\\profi\\\\Desktop\\\\us-marriages-divorces-1867-2014.csv\")\n",
    "\n",
    "# Step 2: Filter the data for the desired years (1900, 1950, and 2000)\n",
    "years_of_interest = [1900, 1950, 2000]\n",
    "filtered_data = data[data['Year'].isin(years_of_interest)]\n",
    "\n",
    "# Step 3: Create the vertical bar chart\n",
    "plt.figure(figsize=(10, 6))\n",
    "\n",
    "# Plot marriages per capita\n",
    "plt.bar(filtered_data['Year'] - 0.2, filtered_data['Marriages_per_1000'], width=0.4, label='Marriages per capita')\n",
    "\n",
    "# Plot divorces per capita\n",
    "plt.bar(filtered_data['Year'] + 0.2, filtered_data['Divorces_per_1000'], width=0.4, label='Divorces per capita')\n",
    "\n",
    "# Add labels and title\n",
    "plt.xlabel('Year')\n",
    "plt.ylabel('Number per 1000 People')\n",
    "plt.title('Marriages and Divorces Per Capita in the U.S. (1900, 1950, 2000)')\n",
    "\n",
    "# Add legend\n",
    "plt.legend()\n",
    "\n",
    "# Show the plot\n",
    "plt.xticks(years_of_interest)\n",
    "plt.grid(True)\n",
    "plt.show()\n"
   ]
  },
  {
   "cell_type": "markdown",
   "id": "6d7d1a56-dc04-431a-bca9-bcb8c71c5541",
   "metadata": {},
   "source": [
    "<br>"
   ]
  },
  {
   "cell_type": "markdown",
   "id": "e6e459b2-3b0a-4471-97f6-67bedac5831f",
   "metadata": {},
   "source": [
    "# (Q.8) -> \"Horizontal Bar Chart\""
   ]
  },
  {
   "cell_type": "markdown",
   "id": "20c08a79-2ff2-4b58-8e6d-bbe4eab6707f",
   "metadata": {},
   "source": [
    "<br>\n",
    "\n",
    "**To create a horizontal bar chart comparing the deadliest actors in Hollywood, sorted by their kill count and labeled with the corresponding actor's name, we can follow these steps using Python with Matplotlib:**"
   ]
  },
  {
   "cell_type": "code",
   "execution_count": 47,
   "id": "8ae3c2f0-677c-4e5b-adc8-609e359f2d21",
   "metadata": {},
   "outputs": [
    {
     "data": {
      "image/png": "[encoded data removed]",
      "text/plain": [
       "<Figure size 1000x600 with 1 Axes>"
      ]
     },
     "metadata": {},
     "output_type": "display_data"
    }
   ],
   "source": [
    "import pandas as pd\n",
    "import matplotlib.pyplot as plt\n",
    "\n",
    "# Step 1: Import the dataset\n",
    "actors_data = pd.read_csv(\"C:\\\\Users\\\\profi\\\\Desktop\\\\actor_kill_counts.csv\")\n",
    "\n",
    "# Step 2: Sort the actors by their kill count\n",
    "sorted_actors = actors_data.sort_values(by='Count', ascending=True)\n",
    "\n",
    "# Step 3: Plotting\n",
    "plt.figure(figsize=(10, 6))\n",
    "\n",
    "# Horizontal bar chart\n",
    "plt.barh(sorted_actors['Actor'], sorted_actors['Count'], color='skyblue')\n",
    "\n",
    "# Add labels and title\n",
    "plt.xlabel('Kill Count')\n",
    "plt.ylabel('Actor')\n",
    "plt.title('Deadliest Actors in Hollywood')\n",
    "\n",
    "# Add labels for each bar\n",
    "for index, value in enumerate(sorted_actors['Count']):\n",
    "    plt.text(value, index, str(value))\n",
    "\n",
    "# Show plot\n",
    "plt.grid(axis='x')\n",
    "plt.tight_layout()\n",
    "plt.show()\n",
    "\n"
   ]
  },
  {
   "cell_type": "markdown",
   "id": "1c0e01d7-0bde-486d-ba61-9277dcda7d1e",
   "metadata": {},
   "source": [
    "<br>"
   ]
  },
  {
   "cell_type": "markdown",
   "id": "e46ff786-da96-4bb6-9b20-4129f017c0da",
   "metadata": {},
   "source": [
    "# (Q.9) -> \"PIE CHART\""
   ]
  },
  {
   "cell_type": "markdown",
   "id": "bf1c2503-cde8-42eb-90b4-2992fe11e317",
   "metadata": {},
   "source": [
    "<br>\n",
    "\n",
    "**To create a pie chart showing the fraction of all Roman Emperors that were assassinated, we can follow these steps using Python with Matplotlib:**"
   ]
  },
  {
   "cell_type": "code",
   "execution_count": 48,
   "id": "92cab52d-25d4-4437-adac-e11d2b188bce",
   "metadata": {},
   "outputs": [
    {
     "data": {
      "image/png": "[encoded data removed]",
      "text/plain": [
       "<Figure size 800x800 with 1 Axes>"
      ]
     },
     "metadata": {},
     "output_type": "display_data"
    }
   ],
   "source": [
    "import pandas as pd\n",
    "import matplotlib.pyplot as plt\n",
    "\n",
    "# Step 1: Import the dataset\n",
    "emperors_data = pd.read_csv(\"C:\\\\Users\\\\profi\\\\Desktop\\\\roman-emperor-reigns.csv\")\n",
    "\n",
    "# Step 2: Calculate the fraction of assassinated emperors\n",
    "total_emperors = len(emperors_data)\n",
    "assassinated_emperors = emperors_data[emperors_data['Cause_of_Death'] == 'Assassinated']\n",
    "fraction_assassinated = len(assassinated_emperors) / total_emperors\n",
    "\n",
    "# Step 3: Create the pie chart\n",
    "labels = ['Assassinated', 'Non-assassinated']\n",
    "sizes = [fraction_assassinated, 1 - fraction_assassinated]\n",
    "explode = (0.1, 0)  # explode the first slice (Assassinated)\n",
    "\n",
    "plt.figure(figsize=(8, 8))\n",
    "plt.pie(sizes, explode=explode, labels=labels, autopct='%1.1f%%', startangle=140)\n",
    "plt.title('Fraction of Assassinated Roman Emperors')\n",
    "plt.axis('equal')  # Equal aspect ratio ensures that pie is drawn as a circle\n",
    "\n",
    "# Show plot\n",
    "plt.show()"
   ]
  },
  {
   "cell_type": "markdown",
   "id": "e515cb12-56d7-4fed-ba8d-ce4e5d152fb2",
   "metadata": {},
   "source": [
    "<br>"
   ]
  },
  {
   "cell_type": "markdown",
   "id": "470b20cf-9d54-40d9-88c0-9846c661928d",
   "metadata": {},
   "source": [
    "# (Q.10) -> \"Scatter Plot\"\n",
    "<br>\n",
    "\n",
    "**To create a scatter plot showing the relationship between the total revenue earned by arcades and the number of Computer Science PhDs awarded in the U.S. between 2000 and 2009, we can follow these steps using Python with Matplotlib:**"
   ]
  },
  {
   "cell_type": "code",
   "execution_count": 50,
   "id": "54bf36b5-ab11-47c1-ba22-c66b5bb5b368",
   "metadata": {},
   "outputs": [
    {
     "data": {
      "image/png": "[encoded data removed]",
      "text/plain": [
       "<Figure size 1000x600 with 2 Axes>"
      ]
     },
     "metadata": {},
     "output_type": "display_data"
    }
   ],
   "source": [
    "import pandas as pd\n",
    "import matplotlib.pyplot as plt\n",
    "\n",
    "# Step 1: Import the dataset\n",
    "data = pd.read_csv(\"C:\\\\Users\\\\profi\\\\Desktop\\\\arcade-revenue-vs-cs-doctorates.csv\")\n",
    "\n",
    "# Step 2: Extract data for plotting\n",
    "years = data['Year']\n",
    "revenue = data['Total Arcade Revenue (billions)']\n",
    "phd_awarded = data['Computer Science Doctorates Awarded (US)']\n",
    "\n",
    "# Step 3: Create the scatter plot\n",
    "plt.figure(figsize=(10, 6))\n",
    "plt.scatter(revenue, phd_awarded, c=years, cmap='viridis', alpha=0.8)\n",
    "plt.colorbar(label='Year')\n",
    "plt.title('Relationship Between Arcade Revenue and Computer Science PhDs')\n",
    "plt.xlabel('Total Arcade Revenue (billions)')\n",
    "plt.ylabel('Computer Science Doctorates Awarded (US)')\n",
    "plt.grid(True)\n",
    "\n",
    "# Show plot\n",
    "plt.show()"
   ]
  },
  {
   "cell_type": "markdown",
   "id": "3c69352b-3e41-4030-a2d4-3c8f172dd50c",
   "metadata": {},
   "source": [
    "<br>"
   ]
  },
  {
   "cell_type": "code",
   "execution_count": null,
   "id": "782dcfe5-072b-422e-9a92-8d2fcc545460",
   "metadata": {},
   "outputs": [],
   "source": []
  }
 ],
 "metadata": {
  "kernelspec": {
   "display_name": "Python 3 (ipykernel)",
   "language": "python",
   "name": "python3"
  },
  "language_info": {
   "codemirror_mode": {
    "name": "ipython",
    "version": 3
   },
   "file_extension": ".py",
   "mimetype": "text/x-python",
   "name": "python",
   "nbconvert_exporter": "python",
   "pygments_lexer": "ipython3",
   "version": "3.11.7"
  }
 },
 "nbformat": 4,
 "nbformat_minor": 5
}
